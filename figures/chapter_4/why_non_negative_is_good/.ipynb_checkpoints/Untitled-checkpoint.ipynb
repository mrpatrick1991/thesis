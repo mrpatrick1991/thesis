{
 "cells": [
  {
   "cell_type": "code",
   "execution_count": 1,
   "id": "2128544d-5b62-4b19-b147-ef7f07b776e1",
   "metadata": {},
   "outputs": [],
   "source": [
    "import glob\n",
    "import scipy\n",
    "import random\n",
    "import numpy as np\n",
    "import matplotlib.pyplot as plt\n",
    "from scipy.stats import chisquare\n",
    "from natsort import natsorted\n",
    "from scipy.stats import describe\n",
    "from scipy.signal import filtfilt"
   ]
  },
  {
   "cell_type": "code",
   "execution_count": 2,
   "id": "df240ac8-1cd9-4ab4-bee3-b2d67d9b0409",
   "metadata": {},
   "outputs": [],
   "source": [
    "path = '/Users/patrick/Documents/phd/GitHub/tikhonov/'"
   ]
  },
  {
   "cell_type": "code",
   "execution_count": 3,
   "id": "2577d938-f395-4586-99c8-cd772ee178da",
   "metadata": {},
   "outputs": [
    {
     "name": "stdout",
     "output_type": "stream",
     "text": [
      "response condition number: 15993.388434455901\n",
      "response condition number after preconditioning: 173.12830996456856\n"
     ]
    }
   ],
   "source": [
    "g4iso_files = natsorted(glob.glob(path+\"g4out/*KE_*_iso.csv\"))\n",
    "R = []\n",
    "D = []\n",
    "\n",
    "for i in range(10,len(g4iso_files)-1,5): # 100 keV to 1 MeV energy range in steps of 100 keV\n",
    "    R.append(np.loadtxt(open(g4iso_files[i], \"r\"), delimiter=\",\",skiprows=9)[30:500:1,3]/5000000.0)\n",
    "R = np.transpose(np.array(R))\n",
    "RR = R\n",
    "for j in range(0,470): # X-ray spectra from 0 to 600 keV\n",
    "    if (np.linalg.norm(R[j,:] > 0)):\n",
    "        D.append((1.0/np.linalg.norm(R[j,:]))) # Diagonal scaling as a left pre-conditioner\n",
    "    else:\n",
    "        D.append(1)\n",
    "\n",
    "DD = np.diag(D)\n",
    "RT = np.matmul(DD,R)\n",
    "\n",
    "S = []\n",
    "for k in range(0,R.shape[1]):\n",
    "    #S.append(1.0/(k+1)**2) # right pre-conditioner towards an exponential\n",
    "    S.append(1.0/np.sum(R[:,k]))\n",
    "    #S.append(alexa_model_exp[k])\n",
    "    #S.append(1)\n",
    "SS = np.diag(S)\n",
    "RS = np.matmul(RT,SS)\n",
    "\n",
    "print('response condition number: ' + str(np.linalg.cond(R)))\n",
    "print('response condition number after preconditioning: ' + str(np.linalg.cond(RS)))\n",
    "\n",
    "elow_keV = 70\n",
    "ehigh_keV = 1000\n",
    "xspace_estep_keV = 1\n",
    "espace_estep_keV = 50\n",
    "\n",
    "espace = np.linspace(elow_keV,ehigh_keV,R.shape[1])\n",
    "xspace = np.linspace(30,500,R.shape[0])"
   ]
  },
  {
   "cell_type": "code",
   "execution_count": 5,
   "id": "4b8a6260-32b4-4beb-a117-3c10fe94d459",
   "metadata": {},
   "outputs": [],
   "source": [
    "# generate synthetic data \n",
    "\n",
    "e0 = np.linspace(30, 299, R.shape[0])\n",
    "e1 = np.linspace(100, ehigh_keV, R.shape[1])\n",
    "\n",
    "def bg(total):\n",
    "    beam = np.full(len(espace), 0)\n",
    "    signal = np.full(len(xspace), 0)\n",
    "    for e in range(0, e0.shape[0]): # normally distributed noise\n",
    "        signal[e] = abs(signal[e] + np.random.normal(signal[e],np.sqrt(total/len(espace))))\n",
    "    return((signal,beam))\n",
    "\n",
    "def ex(fold, elow, ehigh, total):\n",
    "    beam = np.exp(-e1/fold)\n",
    "    beam[0:(np.abs(e1 - elow)).argmin()] = 0.0\n",
    "    beam[(np.abs(e1 - ehigh)).argmin():-1] = 0.0\n",
    "    integral = np.trapz(beam,e1)\n",
    "    beam = beam*total/integral # beam should integrate to total e-/cm^2/s\n",
    "    \n",
    "    signal = np.matmul(R,beam)\n",
    "    \n",
    "    for e in range(0, e0.shape[0]):\n",
    "        signal[e] = abs(signal[e] + np.random.normal(signal[e],np.sqrt(signal[e])))\n",
    "        \n",
    "    return(signal,beam)\n",
    "\n",
    "def gauss(mu, sig, elow, ehigh, total):\n",
    "    beam = total*np.exp(-np.power(e1 - mu, 2.) / (2 * np.power(sig, 2.)))\n",
    "    beam[0:(np.abs(e1 - elow)).argmin()] = 0.0 # low and high energy cutoffs\n",
    "    beam[(np.abs(e1 - ehigh)).argmin():-1] = 0.0\n",
    "    integral = np.trapz(beam, x=e1)\n",
    "    beam = beam*total/integral # beam should integrate to total e-/cm^2/s\n",
    "    signal = np.matmul(R,beam)\n",
    "    for e in range(0, e0.shape[0]): \n",
    "        signal[e] = np.random.normal(signal[e], scale=np.sqrt(signal[e]))\n",
    "    return(signal,beam)\n",
    "\n",
    "def mono(e, total):\n",
    "    beam = np.full(e1.shape[0], 0.0)\n",
    "    beam[(np.abs(e1 - e)).argmin()] = total\n",
    "    signal = np.matmul(R,beam) # beam should integrate to total e-/cm^2/s\n",
    "    for e in range(0, e0.shape[0]): \n",
    "        signal[e] = np.random.normal(signal[e], scale=np.sqrt(signal[e]))\n",
    "    return((signal,beam))"
   ]
  },
  {
   "cell_type": "code",
   "execution_count": 9,
   "id": "693892c7-900e-4511-92a5-4a42c345cf5e",
   "metadata": {},
   "outputs": [],
   "source": [
    "L0 = np.identity(R.shape[1])       # zeroth-order\n",
    "\n",
    "L1 = np.copy(L0) \n",
    "for i in range(0, R.shape[1] - 1): # first-order\n",
    "    L1[i,i+1] = -1.0\n",
    "\n",
    "L2 = np.copy(L0)\n",
    "for i in range(1, R.shape[1]-1): # second-order\n",
    "    L2[i,i] = -2.0\n",
    "    L2[i,i+1] = 1.0 \n",
    "    L2[i,i-1] = 1.0\n",
    "L2[-1,-2] = 0\n",
    "L2[0,0] = 1\n",
    "L2[0,1] = 0\n",
    "\n",
    "def tk(R, op, kappa, xs, posonly):\n",
    "    C = np.matmul(np.transpose(R),R) + (kappa**2)*np.matmul(np.transpose(op),op)\n",
    "    D = np.matmul(np.transpose(R), xs)\n",
    "    if (posonly):\n",
    "        sol = scipy.optimize.nnls(C,D,maxiter=1e10)[0]\n",
    "    else:\n",
    "        sol = np.linalg.solve(C,D)\n",
    "    error = (np.linalg.norm(np.matmul(R,sol) - xs))\n",
    "    bias = np.linalg.norm((1)*np.matmul(op,sol))\n",
    "    return(sol,error,bias)\n",
    "\n",
    "def tks(R, op, kappa, xs, posonly):\n",
    "    eq = lambda e: np.linalg.norm(np.matmul(R,e) - xs) + kappa*np.linalg.norm(np.matmul(op,e))\n",
    "    bnds=scipy.optimize.Bounds(np.full(R.shape[1],0), np.full(R.shape[1],np.inf))\n",
    "    sol = scipy.optimize.minimize(eq,tk(R,op,kappa,xs,True)[0],options={\"maxiter\":1e40},bounds=bnds)\n",
    "    return(sol.x)"
   ]
  },
  {
   "cell_type": "code",
   "execution_count": 57,
   "id": "87cfc3c6-0b58-436a-ad32-cba606945471",
   "metadata": {},
   "outputs": [],
   "source": [
    "# cross validation\n",
    "\n",
    "def cv(R, op, kappas, xs, posonly):\n",
    "    err = []\n",
    "    for kappa in kappas:\n",
    "        e = 0\n",
    "        for i in range(0, len(xs) - 1):\n",
    "            RST = np.delete(RS,i,0)\n",
    "            xst = np.delete(xs,i,0) # delete one X-ray data point and solve the reduced problem\n",
    "            sol = np.matmul(tk(RST, op, kappa, xst, posonly)[0],SS)\n",
    "            sol[-1] = 0\n",
    "            e += (np.matmul(RS,sol)[i] - xs[i])**2\n",
    "        err.append(e)\n",
    "    return(err)"
   ]
  },
  {
   "cell_type": "code",
   "execution_count": 58,
   "id": "9604cdc4-ef4d-40a3-9758-8c77372448b5",
   "metadata": {},
   "outputs": [],
   "source": [
    "def nmse(actual,predicted): # normalized mean-squared error \n",
    "    error = actual - predicted\n",
    "    return(np.dot(np.transpose(error),error)/np.dot(np.transpose(actual),actual))"
   ]
  },
  {
   "cell_type": "code",
   "execution_count": 89,
   "id": "d669c616-c1a7-4854-9cf2-c769d225b564",
   "metadata": {},
   "outputs": [
    {
     "name": "stdout",
     "output_type": "stream",
     "text": [
      "Normalized mean squared error: 0.003366121958354933\n",
      "Kappa estimated: 0.03359818286283781\n"
     ]
    },
    {
     "data": {
      "text/plain": [
       "<matplotlib.legend.Legend at 0x7face22bbca0>"
      ]
     },
     "execution_count": 89,
     "metadata": {},
     "output_type": "execute_result"
    },
    {
     "data": {
      "image/png": "[encoded data removed]",
      "text/plain": [
       "<Figure size 864x432 with 3 Axes>"
      ]
     },
     "metadata": {
      "needs_background": "light"
     },
     "output_type": "display_data"
    }
   ],
   "source": [
    "np.random.seed(324243523)\n",
    "\n",
    "beam = mono(500,1e6)\n",
    "\n",
    "beamx = np.matmul(np.diag(D),beam[0])\n",
    "\n",
    "ss = np.logspace(-7,0,20)\n",
    "e = cv(RS, L2, ss, beamx, True)\n",
    "\n",
    "sol = np.matmul(tk(RS, L2,ss[np.argmin(e)] , beamx, True)[0],SS)\n",
    "fig = plt.figure(figsize=(12,6))\n",
    "gs = plt.GridSpec(nrows=2, ncols=2,hspace=.5,wspace=.3)\n",
    "\n",
    "ax1 = fig.add_subplot(gs[1,0])\n",
    "ax2 = fig.add_subplot(gs[0,0])\n",
    "ax3 = fig.add_subplot(gs[:,1])\n",
    "\n",
    "ax1.semilogy(xspace,beam[0])\n",
    "ax2.plot(espace, beam[1],label='assumed')\n",
    "ax2.plot(espace, sol,label='model')\n",
    "ax3.semilogx(ss,e)\n",
    "print('Normalized mean squared error: ' + str(nmse(beam[1],sol)))\n",
    "print('Kappa estimated: ' + str(ss[np.argmin(e)]))\n",
    "\n",
    "ax1.set_title('X-ray Spectrum')\n",
    "ax1.set_ylabel('counts/s/keV')\n",
    "ax2.set_ylabel('$\\mathrm{e^-}/\\mathrm{cm}^2/\\mathrm{s}/\\mathrm{keV}$')\n",
    "ax2.set_title('Electron Spectrum')\n",
    "ax3.set_title('LOOCV Squared Residuals vs. $\\kappa$\\n')\n",
    "ax3.set_xlabel('$\\kappa$')\n",
    "ax3.set_ylabel('Squared Error')\n",
    "\n",
    "ax3.axvline(x=ss[np.argmin(e)],color='grey',linestyle='dashed')\n",
    "\n",
    "ax2.legend()"
   ]
  }
 ],
 "metadata": {
  "kernelspec": {
   "display_name": "Python 3",
   "language": "python",
   "name": "python3"
  },
  "language_info": {
   "codemirror_mode": {
    "name": "ipython",
    "version": 3
   },
   "file_extension": ".py",
   "mimetype": "text/x-python",
   "name": "python",
   "nbconvert_exporter": "python",
   "pygments_lexer": "ipython3",
   "version": "3.8.8"
  }
 },
 "nbformat": 4,
 "nbformat_minor": 5
}
