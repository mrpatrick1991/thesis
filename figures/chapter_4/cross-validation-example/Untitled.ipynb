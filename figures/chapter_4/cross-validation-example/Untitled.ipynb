{
 "cells": [
  {
   "cell_type": "code",
   "execution_count": 11,
   "id": "suffering-syndicate",
   "metadata": {},
   "outputs": [],
   "source": [
    "import glob\n",
    "import scipy\n",
    "import random\n",
    "import numpy as np\n",
    "import matplotlib.pyplot as plt\n",
    "from scipy.stats import chisquare\n",
    "from natsort import natsorted\n",
    "from scipy.stats import describe\n",
    "from scipy.signal import filtfilt\n",
    "from sklearn.metrics import mean_squared_error"
   ]
  },
  {
   "cell_type": "code",
   "execution_count": 12,
   "id": "closed-sherman",
   "metadata": {},
   "outputs": [],
   "source": [
    "path = '/Users/patrick/Documents/phd/GitHub/tikhonov/'"
   ]
  },
  {
   "cell_type": "code",
   "execution_count": 3,
   "id": "contrary-lesbian",
   "metadata": {},
   "outputs": [
    {
     "name": "stdout",
     "output_type": "stream",
     "text": [
      "response condition number: 15993.388434442719\n",
      "response condition number after preconditioning: 173.12830996456782\n"
     ]
    }
   ],
   "source": [
    "g4iso_files = natsorted(glob.glob(path+\"g4out/*KE_*_iso.csv\"))\n",
    "R = []\n",
    "D = []\n",
    "\n",
    "for i in range(10,len(g4iso_files)-1,5): # 100 keV to 1 MeV energy range in steps of 100 keV\n",
    "    R.append(np.loadtxt(open(g4iso_files[i], \"r\"), delimiter=\",\",skiprows=9)[30:500:1,3]/5000000.0)\n",
    "    #print(g4iso_files[i])\n",
    "R = np.transpose(np.array(R))\n",
    "RR = R\n",
    "for j in range(0,470): # X-ray spectra from 0 to 600 keV\n",
    "    if (np.linalg.norm(R[j,:] > 0)):\n",
    "        D.append((1.0/np.linalg.norm(R[j,:]))) # Diagonal scaling as a left pre-conditioner\n",
    "    else:\n",
    "        D.append(1)\n",
    "\n",
    "DD = np.diag(D)\n",
    "RT = np.matmul(DD,R)\n",
    "\n",
    "S = []\n",
    "for k in range(0,R.shape[1]):\n",
    "    #S.append(1.0/(k+1)**2) # right pre-conditioner towards an exponential\n",
    "    S.append(1.0/np.sum(R[:,k]))\n",
    "    #S.append(alexa_model_exp[k])\n",
    "    #S.append(1)\n",
    "SS = np.diag(S)\n",
    "RS = np.matmul(RT,SS)\n",
    "\n",
    "print('response condition number: ' + str(np.linalg.cond(R)))\n",
    "print('response condition number after preconditioning: ' + str(np.linalg.cond(RS)))\n",
    "\n",
    "elow_keV = 110\n",
    "ehigh_keV = 1960\n",
    "xspace_estep_keV = 1\n",
    "espace_estep_keV = 50\n",
    "\n",
    "espace = np.linspace(elow_keV,ehigh_keV,R.shape[1])\n",
    "xspace = np.linspace(30,500,R.shape[0])\n",
    "\n",
    "\n"
   ]
  },
  {
   "cell_type": "code",
   "execution_count": 4,
   "id": "affecting-calgary",
   "metadata": {},
   "outputs": [],
   "source": [
    "def nmse(actual,predicted): # normalized mean-squared error \n",
    "    error = actual - predicted\n",
    "    return(np.dot(np.transpose(error),error)/np.dot(np.transpose(actual),actual))"
   ]
  },
  {
   "cell_type": "code",
   "execution_count": 5,
   "id": "electrical-giant",
   "metadata": {},
   "outputs": [],
   "source": [
    "# implement tikhonov regularization for orders 0 through 2 with option for positivity constraint\n",
    "\n",
    "L0 = np.identity(R.shape[1])       # zeroth-order\n",
    "\n",
    "L1 = np.copy(L0) \n",
    "for i in range(0, R.shape[1] - 1): # first-order\n",
    "    L1[i,i+1] = -1.0\n",
    "\n",
    "L2 = np.copy(L0)\n",
    "for i in range(1, R.shape[1]-1):  # second-order\n",
    "    L2[i,i] = -2.0\n",
    "    L2[i,i+1] = 1.0 \n",
    "    L2[i,i-1] = 1.0\n",
    "\n",
    "def tk(R, op, kappa, xs, posonly):\n",
    "    C = np.matmul(np.transpose(R),R) + (kappa**2)*np.matmul(np.transpose(op),op)\n",
    "    D = np.matmul(np.transpose(R), xs)        \n",
    "    if (posonly):\n",
    "        sol = scipy.optimize.nnls(C,D,maxiter=1e10)[0]\n",
    "    else:\n",
    "        sol = np.linalg.solve(C,D)\n",
    "    error = (np.linalg.norm(np.matmul(R,sol) - xs))\n",
    "    bias = np.linalg.norm((kappa)*np.matmul(op,sol))\n",
    "    return(sol,error,bias)"
   ]
  },
  {
   "cell_type": "code",
   "execution_count": 6,
   "id": "noble-component",
   "metadata": {},
   "outputs": [],
   "source": [
    "# generate synthetic data \n",
    "\n",
    "e0 = np.linspace(30, 299, R.shape[0])\n",
    "e1 = np.linspace(100, ehigh_keV, R.shape[1])\n",
    "\n",
    "def bg(total):\n",
    "    beam = np.full(len(espace), 0)\n",
    "    signal = np.full(len(xspace), 0)\n",
    "    for e in range(0, e0.shape[0]): # normally distributed noise\n",
    "        signal[e] = abs(signal[e] + np.random.normal(signal[e],np.sqrt(total/len(espace))))\n",
    "    return((signal,beam))\n",
    "\n",
    "def ex(fold, elow, ehigh, total):\n",
    "    beam = np.exp(-e1/fold)\n",
    "    beam[0:(np.abs(e1 - elow)).argmin()] = 0.0\n",
    "    beam[(np.abs(e1 - ehigh)).argmin():-1] = 0.0\n",
    "    integral = np.trapz(beam,e1)\n",
    "    beam = beam*total/integral # beam should integrate to total e-/cm^2/s\n",
    "    \n",
    "    signal = np.matmul(R,beam)\n",
    "    \n",
    "    for e in range(0, e0.shape[0]):\n",
    "        signal[e] = abs(signal[e] + np.random.normal(signal[e],np.sqrt(signal[e])))\n",
    "        \n",
    "    return(signal,beam)\n",
    "\n",
    "def gauss(mu, sig, elow, ehigh, total):\n",
    "    beam = total*np.exp(-np.power(e1 - mu, 2.) / (2 * np.power(sig, 2.)))\n",
    "    beam[0:(np.abs(e1 - elow)).argmin()] = 0.0 # low and high energy cutoffs\n",
    "    beam[(np.abs(e1 - ehigh)).argmin():-1] = 0.0\n",
    "    integral = np.trapz(beam, x=e1)\n",
    "    beam = beam*total/integral # beam should integrate to total e-/cm^2/s\n",
    "    signal = np.matmul(R,beam)\n",
    "    for e in range(0, e0.shape[0]): \n",
    "        signal[e] = np.random.normal(signal[e], scale=np.sqrt(signal[e]))\n",
    "    return(signal,beam)\n",
    "\n",
    "def mono(e, total):\n",
    "    beam = np.full(e1.shape[0], 0.0)\n",
    "    beam[(np.abs(e1 - e)).argmin()] = total\n",
    "    signal = np.matmul(R,beam) # beam should integrate to total e-/cm^2/s\n",
    "    for e in range(0, e0.shape[0]): \n",
    "        signal[e] = np.random.normal(signal[e], scale=np.sqrt(signal[e]))\n",
    "    return((signal,beam))"
   ]
  },
  {
   "cell_type": "code",
   "execution_count": 7,
   "id": "completed-group",
   "metadata": {},
   "outputs": [],
   "source": [
    "# cross validation\n",
    "\n",
    "def cv(R, op, kappas, xs, posonly):\n",
    "    err = []\n",
    "    for kappa in kappas:\n",
    "        e = 0\n",
    "        for i in range(0, len(xs) - 1):\n",
    "            RST = np.delete(R,i,0)\n",
    "            xst = np.delete(xs,i,0) # delete one X-ray data point and solve the reduced problem\n",
    "            sol = np.matmul(tk(RST, op, kappa, xst, posonly)[0],SS)\n",
    "            sol[-1] = 0\n",
    "            e += (np.matmul(R,sol)[i] - xs[i])**2\n",
    "        err.append(e)\n",
    "    return(err)"
   ]
  },
  {
   "cell_type": "code",
   "execution_count": 8,
   "id": "supported-matrix",
   "metadata": {},
   "outputs": [],
   "source": [
    "L0 = np.identity(R.shape[1])       # zeroth-order\n",
    "\n",
    "L1 = np.copy(L0) \n",
    "for i in range(0, R.shape[1] - 1): # first-order\n",
    "    L1[i,i+1] = -1.0\n",
    "\n",
    "L2 = np.copy(L0)\n",
    "for i in range(1, R.shape[1]-1): # second-order\n",
    "    L2[i,i] = -2.0\n",
    "    L2[i,i+1] = 1.0 \n",
    "    L2[i,i-1] = 1.0\n",
    "L2[-1,-2] = 0\n",
    "L2[0,0] = 1\n",
    "L2[0,1] = 0\n",
    "\n",
    "def tk(R, op, kappa, xs, posonly):\n",
    "    C = np.matmul(np.transpose(R),R) + (kappa**2)*np.matmul(np.transpose(op),op)\n",
    "    D = np.matmul(np.transpose(R), xs)\n",
    "    if (posonly):\n",
    "        sol = scipy.optimize.nnls(C,D,maxiter=1e10)[0]\n",
    "    else:\n",
    "        sol = np.linalg.solve(C,D)\n",
    "    error = (np.linalg.norm(np.matmul(R,sol) - xs))\n",
    "    bias = np.linalg.norm((1)*np.matmul(op,sol))\n",
    "    return(sol,error,bias)\n",
    "\n",
    "def tks(R, op, kappa, xs, posonly):\n",
    "    eq = lambda e: np.linalg.norm(np.matmul(R,e) - xs) + kappa*np.linalg.norm(np.matmul(op,e))\n",
    "    bnds=scipy.optimize.Bounds(np.full(R.shape[1],0), np.full(R.shape[1],np.inf))\n",
    "    sol = scipy.optimize.minimize(eq,tk(R,op,kappa,xs,True)[0],options={\"maxiter\":1e40},bounds=bnds)\n",
    "    return(sol.x)"
   ]
  },
  {
   "cell_type": "code",
   "execution_count": 9,
   "id": "fitting-vietnamese",
   "metadata": {},
   "outputs": [],
   "source": [
    "from scipy.stats import moment"
   ]
  },
  {
   "cell_type": "code",
   "execution_count": 10,
   "id": "continental-detector",
   "metadata": {},
   "outputs": [
    {
     "data": {
      "text/plain": [
       "0.0"
      ]
     },
     "execution_count": 10,
     "metadata": {},
     "output_type": "execute_result"
    }
   ],
   "source": [
    "moment([1, 2, 3, 4, 5], moment=1)"
   ]
  },
  {
   "cell_type": "code",
   "execution_count": 140,
   "id": "mechanical-superior",
   "metadata": {},
   "outputs": [
    {
     "name": "stderr",
     "output_type": "stream",
     "text": [
      "<ipython-input-140-0e720edbd439>:3: RuntimeWarning: divide by zero encountered in log\n",
      "  RL.append(np.log(np.loadtxt(open(g4iso_files[i], \"r\"), delimiter=\",\",skiprows=9)[30:500:1,3]/5000000.0 + 0*1e-10))\n"
     ]
    }
   ],
   "source": [
    "RL = []\n",
    "for i in range(10,len(g4iso_files)-1,5): # 100 keV to 1 MeV energy range in steps of 100 keV=\n",
    "    RL.append(np.log(np.loadtxt(open(g4iso_files[i], \"r\"), delimiter=\",\",skiprows=9)[30:500:1,3]/5000000.0 + 0*1e-10))\n",
    "RL = np.transpose(np.array(RL))\n"
   ]
  },
  {
   "cell_type": "code",
   "execution_count": 144,
   "id": "proof-saturn",
   "metadata": {},
   "outputs": [
    {
     "data": {
      "text/plain": [
       "[<matplotlib.lines.Line2D at 0x7fd279da9cd0>]"
      ]
     },
     "execution_count": 144,
     "metadata": {},
     "output_type": "execute_result"
    },
    {
     "data": {
      "image/png": "[encoded data removed]",
      "text/plain": [
       "<Figure size 432x288 with 1 Axes>"
      ]
     },
     "metadata": {
      "needs_background": "light"
     },
     "output_type": "display_data"
    }
   ],
   "source": [
    "plt.plot(RL[:,10])"
   ]
  },
  {
   "cell_type": "code",
   "execution_count": 151,
   "id": "narrow-leave",
   "metadata": {},
   "outputs": [],
   "source": [
    "bm = mono(500,1e9)\n",
    "bmm = mono(250,1e9)"
   ]
  },
  {
   "cell_type": "code",
   "execution_count": 152,
   "id": "confused-realtor",
   "metadata": {},
   "outputs": [
    {
     "data": {
      "text/plain": [
       "[<matplotlib.lines.Line2D at 0x7fd28af4a6a0>]"
      ]
     },
     "execution_count": 152,
     "metadata": {},
     "output_type": "execute_result"
    },
    {
     "data": {
      "image/png": "[encoded data removed]",
      "text/plain": [
       "<Figure size 432x288 with 1 Axes>"
      ]
     },
     "metadata": {
      "needs_background": "light"
     },
     "output_type": "display_data"
    }
   ],
   "source": [
    "plt.plot(bm[1] + bmm[1])"
   ]
  },
  {
   "cell_type": "code",
   "execution_count": 155,
   "id": "powered-diploma",
   "metadata": {},
   "outputs": [
    {
     "data": {
      "text/plain": [
       "[<matplotlib.lines.Line2D at 0x7fd28b5f4310>]"
      ]
     },
     "execution_count": 155,
     "metadata": {},
     "output_type": "execute_result"
    },
    {
     "data": {
      "image/png": "[encoded data removed]",
      "text/plain": [
       "<Figure size 432x288 with 1 Axes>"
      ]
     },
     "metadata": {
      "needs_background": "light"
     },
     "output_type": "display_data"
    }
   ],
   "source": [
    "plt.plot(bmm[0])\n",
    "plt.plot(np.matmul(R,bmm[1]))"
   ]
  },
  {
   "cell_type": "code",
   "execution_count": 158,
   "id": "fuzzy-alpha",
   "metadata": {},
   "outputs": [
    {
     "data": {
      "text/plain": [
       "[<matplotlib.lines.Line2D at 0x7fd28b66a490>]"
      ]
     },
     "execution_count": 158,
     "metadata": {},
     "output_type": "execute_result"
    },
    {
     "data": {
      "image/png": "[encoded data removed]",
      "text/plain": [
       "<Figure size 432x288 with 1 Axes>"
      ]
     },
     "metadata": {
      "needs_background": "light"
     },
     "output_type": "display_data"
    }
   ],
   "source": [
    "plt.plot(np.matmul(RL,bm[1]))"
   ]
  },
  {
   "cell_type": "code",
   "execution_count": 160,
   "id": "choice-parallel",
   "metadata": {},
   "outputs": [],
   "source": [
    "from scipy.stats import moment\n"
   ]
  },
  {
   "cell_type": "code",
   "execution_count": 189,
   "id": "recorded-pride",
   "metadata": {},
   "outputs": [],
   "source": [
    "bm = gauss(500,100,0,1000,1e100)"
   ]
  },
  {
   "cell_type": "code",
   "execution_count": 179,
   "id": "north-pathology",
   "metadata": {},
   "outputs": [
    {
     "data": {
      "text/plain": [
       "1.0"
      ]
     },
     "execution_count": 179,
     "metadata": {},
     "output_type": "execute_result"
    }
   ],
   "source": [
    "moment(bm[1],0)"
   ]
  },
  {
   "cell_type": "code",
   "execution_count": 194,
   "id": "split-mainstream",
   "metadata": {},
   "outputs": [
    {
     "data": {
      "text/plain": [
       "[<matplotlib.lines.Line2D at 0x7fd258dc43d0>]"
      ]
     },
     "execution_count": 194,
     "metadata": {},
     "output_type": "execute_result"
    },
    {
     "data": {
      "image/png": "[encoded data removed]",
      "text/plain": [
       "<Figure size 432x288 with 1 Axes>"
      ]
     },
     "metadata": {
      "needs_background": "light"
     },
     "output_type": "display_data"
    }
   ],
   "source": [
    "plt.plot(espace,bm[1])"
   ]
  },
  {
   "cell_type": "code",
   "execution_count": 180,
   "id": "russian-platinum",
   "metadata": {},
   "outputs": [],
   "source": [
    "moments = scipy.stats.describe(bm[1])"
   ]
  },
  {
   "cell_type": "code",
   "execution_count": 182,
   "id": "former-economics",
   "metadata": {},
   "outputs": [
    {
     "data": {
      "text/plain": [
       "1081889.150506527"
      ]
     },
     "execution_count": 182,
     "metadata": {},
     "output_type": "execute_result"
    }
   ],
   "source": [
    "moments.mean"
   ]
  },
  {
   "cell_type": "code",
   "execution_count": 17,
   "id": "unsigned-accessory",
   "metadata": {},
   "outputs": [],
   "source": [
    "def n_weighted_moment(values, weights, n):\n",
    "\n",
    "    assert n>0 & (values.shape == weights.shape)\n",
    "    w_avg = np.average(values, weights = weights)\n",
    "    w_var = np.sum(weights * (values - w_avg)**2)/np.sum(weights)\n",
    "\n",
    "    if n==1:\n",
    "        return w_avg\n",
    "    elif n==2:\n",
    "        return w_var\n",
    "    else:\n",
    "        w_std = np.sqrt(w_var)\n",
    "        return np.sum(weights * ((values - w_avg)/w_std)**n)/np.sum(weights)\n",
    "              #Same as np.average(((values - w_avg)/w_std)**n, weights=weights)"
   ]
  },
  {
   "cell_type": "code",
   "execution_count": 522,
   "id": "cultural-avatar",
   "metadata": {},
   "outputs": [
    {
     "data": {
      "text/plain": [
       "483.3413688060136"
      ]
     },
     "execution_count": 522,
     "metadata": {},
     "output_type": "execute_result"
    }
   ],
   "source": [
    "import math\n",
    "n_weighted_moment(espace,bm[1],1)"
   ]
  },
  {
   "cell_type": "code",
   "execution_count": 16,
   "id": "genuine-brook",
   "metadata": {},
   "outputs": [],
   "source": [
    "def weighted_mean(var, wts):\n",
    "    \"\"\"Calculates the weighted mean\"\"\"\n",
    "    return np.average(var, weights=wts)"
   ]
  },
  {
   "cell_type": "code",
   "execution_count": 203,
   "id": "attractive-institution",
   "metadata": {},
   "outputs": [
    {
     "data": {
      "text/plain": [
       "483.3413688060136"
      ]
     },
     "execution_count": 203,
     "metadata": {},
     "output_type": "execute_result"
    }
   ],
   "source": [
    "weighted_mean(espace,bm[1])"
   ]
  },
  {
   "cell_type": "code",
   "execution_count": 322,
   "id": "weighted-cyprus",
   "metadata": {},
   "outputs": [],
   "source": [
    "RM = []\n",
    "for i in range(10,len(g4iso_files)-1,5): # 100 keV to 1 MeV energy range in steps of 100 keV=\n",
    "    RM.append(weighted_mean(xspace,np.loadtxt(open(g4iso_files[i], \"r\"), delimiter=\",\",skiprows=9)[30:500:1,3]/5000000.0))\n",
    "RM = np.transpose(np.array(RM))\n",
    "espaceM = np.linspace(elow_keV,ehigh_keV,RM.shape[0])\n"
   ]
  },
  {
   "cell_type": "code",
   "execution_count": 323,
   "id": "returning-operator",
   "metadata": {},
   "outputs": [
    {
     "data": {
      "text/plain": [
       "(38,)"
      ]
     },
     "execution_count": 323,
     "metadata": {},
     "output_type": "execute_result"
    }
   ],
   "source": [
    "RM.shape"
   ]
  },
  {
   "cell_type": "code",
   "execution_count": 260,
   "id": "placed-spine",
   "metadata": {},
   "outputs": [],
   "source": [
    "def find_nearest(array, value):\n",
    "    array = np.asarray(array)\n",
    "    idx = (np.abs(array - value)).argmin()\n",
    "    return array[idx]"
   ]
  },
  {
   "cell_type": "code",
   "execution_count": 207,
   "id": "short-alexander",
   "metadata": {},
   "outputs": [
    {
     "data": {
      "text/plain": [
       "(38,)"
      ]
     },
     "execution_count": 207,
     "metadata": {},
     "output_type": "execute_result"
    }
   ],
   "source": [
    "espace.shape"
   ]
  },
  {
   "cell_type": "code",
   "execution_count": 212,
   "id": "mysterious-generation",
   "metadata": {},
   "outputs": [
    {
     "data": {
      "text/plain": [
       "497.29729729729735"
      ]
     },
     "execution_count": 212,
     "metadata": {},
     "output_type": "execute_result"
    }
   ],
   "source": [
    "espace[]"
   ]
  },
  {
   "cell_type": "code",
   "execution_count": 213,
   "id": "above-fashion",
   "metadata": {},
   "outputs": [
    {
     "data": {
      "text/plain": [
       "98.00823970384631"
      ]
     },
     "execution_count": 213,
     "metadata": {},
     "output_type": "execute_result"
    }
   ],
   "source": [
    "RM[17]"
   ]
  },
  {
   "cell_type": "code",
   "execution_count": 214,
   "id": "offensive-majority",
   "metadata": {},
   "outputs": [
    {
     "data": {
      "text/plain": [
       "[<matplotlib.lines.Line2D at 0x7fd28b93fbb0>]"
      ]
     },
     "execution_count": 214,
     "metadata": {},
     "output_type": "execute_result"
    },
    {
     "data": {
      "image/png": "[encoded data removed]",
      "text/plain": [
       "<Figure size 432x288 with 1 Axes>"
      ]
     },
     "metadata": {
      "needs_background": "light"
     },
     "output_type": "display_data"
    }
   ],
   "source": [
    "plt.plot(mono(500,1e9)[1])"
   ]
  },
  {
   "cell_type": "code",
   "execution_count": 381,
   "id": "small-weekend",
   "metadata": {},
   "outputs": [
    {
     "data": {
      "text/plain": [
       "96.52188011711168"
      ]
     },
     "execution_count": 381,
     "metadata": {},
     "output_type": "execute_result"
    }
   ],
   "source": [
    "weighted_mean(xspace,mono(500,1e9)[0]+mono(0,1e9)[0])"
   ]
  },
  {
   "cell_type": "code",
   "execution_count": 252,
   "id": "third-cornwall",
   "metadata": {},
   "outputs": [],
   "source": [
    "ff = ex(200,0,1000,1e10)"
   ]
  },
  {
   "cell_type": "code",
   "execution_count": 254,
   "id": "wound-parks",
   "metadata": {},
   "outputs": [
    {
     "data": {
      "text/plain": [
       "254.86494076851324"
      ]
     },
     "execution_count": 254,
     "metadata": {},
     "output_type": "execute_result"
    }
   ],
   "source": [
    "weighted_mean(espace,ff[1])"
   ]
  },
  {
   "cell_type": "code",
   "execution_count": 255,
   "id": "eligible-embassy",
   "metadata": {},
   "outputs": [
    {
     "data": {
      "text/plain": [
       "96.53065574300796"
      ]
     },
     "execution_count": 255,
     "metadata": {},
     "output_type": "execute_result"
    }
   ],
   "source": [
    "weighted_mean(xspace,ff[0])"
   ]
  },
  {
   "cell_type": "code",
   "execution_count": 228,
   "id": "improving-sierra",
   "metadata": {},
   "outputs": [
    {
     "data": {
      "text/plain": [
       "254.86494076851326"
      ]
     },
     "execution_count": 228,
     "metadata": {},
     "output_type": "execute_result"
    }
   ],
   "source": [
    "weighted_mean(espace,tb[1])"
   ]
  },
  {
   "cell_type": "code",
   "execution_count": 259,
   "id": "major-coating",
   "metadata": {},
   "outputs": [
    {
     "data": {
      "text/plain": [
       "96.53399871331965"
      ]
     },
     "execution_count": 259,
     "metadata": {},
     "output_type": "execute_result"
    }
   ],
   "source": [
    "weighted_mean(xspace,tb[0])"
   ]
  },
  {
   "cell_type": "code",
   "execution_count": 277,
   "id": "blind-credit",
   "metadata": {},
   "outputs": [
    {
     "data": {
      "text/plain": [
       "460.7978723404255"
      ]
     },
     "execution_count": 277,
     "metadata": {},
     "output_type": "execute_result"
    }
   ],
   "source": [
    "espaceM[np.argmin(np.abs(RM-96.53))]"
   ]
  },
  {
   "cell_type": "code",
   "execution_count": 324,
   "id": "informative-liver",
   "metadata": {},
   "outputs": [
    {
     "data": {
      "text/plain": [
       "3143179216.2412333"
      ]
     },
     "execution_count": 324,
     "metadata": {},
     "output_type": "execute_result"
    }
   ],
   "source": [
    "np.matmul(RM,tb[1])"
   ]
  },
  {
   "cell_type": "code",
   "execution_count": 273,
   "id": "wanted-professor",
   "metadata": {},
   "outputs": [
    {
     "ename": "NameError",
     "evalue": "name 'espaceM' is not defined",
     "output_type": "error",
     "traceback": [
      "\u001b[0;31m---------------------------------------------------------------------------\u001b[0m",
      "\u001b[0;31mNameError\u001b[0m                                 Traceback (most recent call last)",
      "\u001b[0;32m<ipython-input-273-0ae9f93b9ece>\u001b[0m in \u001b[0;36m<module>\u001b[0;34m\u001b[0m\n\u001b[0;32m----> 1\u001b[0;31m \u001b[0mespaceM\u001b[0m\u001b[0;34m\u001b[0m\u001b[0;34m\u001b[0m\u001b[0m\n\u001b[0m",
      "\u001b[0;31mNameError\u001b[0m: name 'espaceM' is not defined"
     ]
    }
   ],
   "source": [
    "espaceM"
   ]
  },
  {
   "cell_type": "code",
   "execution_count": 368,
   "id": "conventional-strength",
   "metadata": {},
   "outputs": [],
   "source": [
    "RC = []\n",
    "for i in range(10,len(g4iso_files)-1,5): # 100 keV to 1 MeV energy range in steps of 100 keV=\n",
    "    RC.append(np.diff(np.append(0,np.loadtxt(open(g4iso_files[i], \"r\"), delimiter=\",\",skiprows=9)[30:500:1,3]/5000000.0)))\n",
    "RC = np.transpose(np.array(RC))\n"
   ]
  },
  {
   "cell_type": "code",
   "execution_count": 369,
   "id": "spanish-israel",
   "metadata": {},
   "outputs": [
    {
     "data": {
      "text/plain": [
       "(470, 38)"
      ]
     },
     "execution_count": 369,
     "metadata": {},
     "output_type": "execute_result"
    }
   ],
   "source": [
    "RC.shape"
   ]
  },
  {
   "cell_type": "code",
   "execution_count": 370,
   "id": "painful-terminology",
   "metadata": {},
   "outputs": [
    {
     "data": {
      "text/plain": [
       "[<matplotlib.lines.Line2D at 0x7fd259627a90>]"
      ]
     },
     "execution_count": 370,
     "metadata": {},
     "output_type": "execute_result"
    },
    {
     "data": {
      "image/png": "[encoded data removed]",
      "text/plain": [
       "<Figure size 432x288 with 1 Axes>"
      ]
     },
     "metadata": {
      "needs_background": "light"
     },
     "output_type": "display_data"
    }
   ],
   "source": [
    "plt.plot(RC[:,10])\n",
    "plt.plot(RC[:,17])\n",
    "plt.plot(RC[:,17]+RC[:,10])"
   ]
  },
  {
   "cell_type": "code",
   "execution_count": 371,
   "id": "active-soldier",
   "metadata": {},
   "outputs": [
    {
     "data": {
      "text/plain": [
       "[<matplotlib.lines.Line2D at 0x7fd27ad801f0>]"
      ]
     },
     "execution_count": 371,
     "metadata": {},
     "output_type": "execute_result"
    },
    {
     "data": {
      "image/png": "[encoded data removed]",
      "text/plain": [
       "<Figure size 432x288 with 1 Axes>"
      ]
     },
     "metadata": {
      "needs_background": "light"
     },
     "output_type": "display_data"
    }
   ],
   "source": [
    "plt.plot(R[:,10])\n",
    "plt.plot(R[:,17])\n",
    "plt.plot(R[:,17]+R[:,10])"
   ]
  },
  {
   "cell_type": "code",
   "execution_count": 373,
   "id": "ideal-arcade",
   "metadata": {},
   "outputs": [
    {
     "data": {
      "text/plain": [
       "1176.1823708687002"
      ]
     },
     "execution_count": 373,
     "metadata": {},
     "output_type": "execute_result"
    }
   ],
   "source": [
    "np.linalg.cond(RC)"
   ]
  },
  {
   "cell_type": "code",
   "execution_count": 374,
   "id": "revolutionary-purple",
   "metadata": {},
   "outputs": [
    {
     "data": {
      "text/plain": [
       "15993.388434442719"
      ]
     },
     "execution_count": 374,
     "metadata": {},
     "output_type": "execute_result"
    }
   ],
   "source": [
    "np.linalg.cond(R)"
   ]
  },
  {
   "cell_type": "code",
   "execution_count": 380,
   "id": "convenient-mortgage",
   "metadata": {},
   "outputs": [
    {
     "data": {
      "text/plain": [
       "[<matplotlib.lines.Line2D at 0x7fd28c2fcac0>]"
      ]
     },
     "execution_count": 380,
     "metadata": {},
     "output_type": "execute_result"
    },
    {
     "data": {
      "image/png": "[encoded data removed]",
      "text/plain": [
       "<Figure size 432x288 with 1 Axes>"
      ]
     },
     "metadata": {
      "needs_background": "light"
     },
     "output_type": "display_data"
    }
   ],
   "source": [
    "plt.plot(np.cumsum(np.matmul(np.linalg.pinv(RC),np.append(0,np.diff(tb[0])))))\n"
   ]
  },
  {
   "cell_type": "code",
   "execution_count": 358,
   "id": "modified-romania",
   "metadata": {},
   "outputs": [
    {
     "data": {
      "text/plain": [
       "[<matplotlib.lines.Line2D at 0x7fd28c175490>]"
      ]
     },
     "execution_count": 358,
     "metadata": {},
     "output_type": "execute_result"
    },
    {
     "data": {
      "image/png": "[encoded data removed]",
      "text/plain": [
       "<Figure size 432x288 with 1 Axes>"
      ]
     },
     "metadata": {
      "needs_background": "light"
     },
     "output_type": "display_data"
    }
   ],
   "source": []
  },
  {
   "cell_type": "code",
   "execution_count": 15,
   "id": "rubber-uniform",
   "metadata": {},
   "outputs": [
    {
     "ename": "NameError",
     "evalue": "name 'weighted_mean' is not defined",
     "output_type": "error",
     "traceback": [
      "\u001b[0;31m---------------------------------------------------------------------------\u001b[0m",
      "\u001b[0;31mNameError\u001b[0m                                 Traceback (most recent call last)",
      "\u001b[0;32m<ipython-input-15-63f13fa0c799>\u001b[0m in \u001b[0;36m<module>\u001b[0;34m\u001b[0m\n\u001b[1;32m     11\u001b[0m     \u001b[0mbeams\u001b[0m\u001b[0;34m.\u001b[0m\u001b[0mappend\u001b[0m\u001b[0;34m(\u001b[0m\u001b[0mgauss\u001b[0m\u001b[0;34m(\u001b[0m\u001b[0mnp\u001b[0m\u001b[0;34m.\u001b[0m\u001b[0mrandom\u001b[0m\u001b[0;34m.\u001b[0m\u001b[0mrand\u001b[0m\u001b[0;34m(\u001b[0m\u001b[0;34m)\u001b[0m\u001b[0;34m*\u001b[0m\u001b[0;36m1000\u001b[0m\u001b[0;34m,\u001b[0m\u001b[0mnp\u001b[0m\u001b[0;34m.\u001b[0m\u001b[0mrandom\u001b[0m\u001b[0;34m.\u001b[0m\u001b[0mrand\u001b[0m\u001b[0;34m(\u001b[0m\u001b[0;34m)\u001b[0m\u001b[0;34m*\u001b[0m\u001b[0;36m100\u001b[0m\u001b[0;34m,\u001b[0m\u001b[0;36m0\u001b[0m\u001b[0;34m,\u001b[0m\u001b[0;36m1000\u001b[0m\u001b[0;34m,\u001b[0m\u001b[0;36m1e10\u001b[0m\u001b[0;34m)\u001b[0m\u001b[0;34m)\u001b[0m\u001b[0;34m\u001b[0m\u001b[0;34m\u001b[0m\u001b[0m\n\u001b[1;32m     12\u001b[0m     \u001b[0;32mfor\u001b[0m \u001b[0mbeam\u001b[0m \u001b[0;32min\u001b[0m \u001b[0mbeams\u001b[0m\u001b[0;34m:\u001b[0m\u001b[0;34m\u001b[0m\u001b[0;34m\u001b[0m\u001b[0m\n\u001b[0;32m---> 13\u001b[0;31m         \u001b[0mmx\u001b[0m\u001b[0;34m.\u001b[0m\u001b[0mappend\u001b[0m\u001b[0;34m(\u001b[0m\u001b[0mweighted_mean\u001b[0m\u001b[0;34m(\u001b[0m\u001b[0mxspace\u001b[0m\u001b[0;34m,\u001b[0m\u001b[0mbeam\u001b[0m\u001b[0;34m[\u001b[0m\u001b[0;36m0\u001b[0m\u001b[0;34m]\u001b[0m\u001b[0;34m)\u001b[0m\u001b[0;34m)\u001b[0m\u001b[0;34m\u001b[0m\u001b[0;34m\u001b[0m\u001b[0m\n\u001b[0m\u001b[1;32m     14\u001b[0m         \u001b[0mmy\u001b[0m\u001b[0;34m.\u001b[0m\u001b[0mappend\u001b[0m\u001b[0;34m(\u001b[0m\u001b[0mweighted_mean\u001b[0m\u001b[0;34m(\u001b[0m\u001b[0mespace\u001b[0m\u001b[0;34m,\u001b[0m\u001b[0mbeam\u001b[0m\u001b[0;34m[\u001b[0m\u001b[0;36m1\u001b[0m\u001b[0;34m]\u001b[0m\u001b[0;34m)\u001b[0m\u001b[0;34m)\u001b[0m\u001b[0;34m\u001b[0m\u001b[0;34m\u001b[0m\u001b[0m\n\u001b[1;32m     15\u001b[0m \u001b[0;34m\u001b[0m\u001b[0m\n",
      "\u001b[0;31mNameError\u001b[0m: name 'weighted_mean' is not defined"
     ]
    }
   ],
   "source": [
    "mx = []\n",
    "my = []\n",
    "\n",
    "beams = []\n",
    "for i in range(1,1000,1):\n",
    "    beams = [ex(i,0,1000,1e10),gauss(200,i,0,1000,1e10),gauss(i,500,0,1000,1e10),gauss(i,700,0,1000,1e10), gauss(i,100,0,1000,1e10),mono(i*10,1e10),ex(200,i,1000,1e10)]\n",
    "    beams.append(gauss(500,400,0,i,1e10))\n",
    "    beams.append(gauss(200,400,0,i,1e10))\n",
    "    beams.append(gauss(100,400,0,i,1e10))\n",
    "    beams.append(gauss(50,400,0,i,1e10))\n",
    "    beams.append(gauss(np.random.rand()*1000,np.random.rand()*100,0,1000,1e10))\n",
    "    for beam in beams:\n",
    "        mx.append(weighted_mean(xspace,beam[0]))\n",
    "        my.append(weighted_mean(espace,beam[1]))\n",
    "    \n"
   ]
  },
  {
   "cell_type": "code",
   "execution_count": null,
   "id": "closed-stocks",
   "metadata": {},
   "outputs": [],
   "source": [
    "    rr=np.abs(np.random.rand(espace.shape[0]))\n",
    "    b, a = signal.butter(8, .1)\n",
    "    randombeam  = [np.matmul(R,np.abs(signal.filtfilt(b, a, rr, padlen=20))),np.abs(signal.filtfilt(b, a, rr, padlen=20))]\n",
    "    mx.append(weighted_mean(xspace,randombeam[0]))\n",
    "    my.append(weighted_mean(espace,randombeam[1]))\n",
    "    \n",
    "    b, a = signal.butter(8, .2)\n",
    "    randombeam  = [np.matmul(R,np.abs(signal.filtfilt(b, a, rr, padlen=20))),np.abs(signal.filtfilt(b, a, rr, padlen=20))]\n",
    "    mx.append(weighted_mean(xspace,randombeam[0]))\n",
    "    my.append(weighted_mean(espace,randombeam[1]))\n",
    "    \n",
    "    b, a = signal.butter(8, .06)\n",
    "    randombeam  = [np.matmul(R,np.abs(signal.filtfilt(b, a, rr, padlen=20))),np.abs(signal.filtfilt(b, a, rr, padlen=20))]\n",
    "    mx.append(weighted_mean(xspace,randombeam[0]))\n",
    "    my.append(weighted_mean(espace,randombeam[1]))\n"
   ]
  },
  {
   "cell_type": "code",
   "execution_count": 782,
   "id": "corporate-tiffany",
   "metadata": {},
   "outputs": [
    {
     "data": {
      "text/plain": [
       "[<matplotlib.lines.Line2D at 0x7fd26d473f40>]"
      ]
     },
     "execution_count": 782,
     "metadata": {},
     "output_type": "execute_result"
    },
    {
     "data": {
      "image/png": "[encoded data removed]",
      "text/plain": [
       "<Figure size 432x288 with 1 Axes>"
      ]
     },
     "metadata": {
      "needs_background": "light"
     },
     "output_type": "display_data"
    }
   ],
   "source": [
    "plt.plot(mx,my,'x')\n",
    "#plt.ylim(200, 800)\n",
    "#plt.xlim(105, 113)"
   ]
  },
  {
   "cell_type": "code",
   "execution_count": 740,
   "id": "heard-vermont",
   "metadata": {},
   "outputs": [],
   "source": [
    "for beam in beams:\n",
    "    plt.plot(beam[1])"
   ]
  },
  {
   "cell_type": "code",
   "execution_count": 14,
   "id": "selective-rwanda",
   "metadata": {},
   "outputs": [
    {
     "ename": "NameError",
     "evalue": "name 'signal' is not defined",
     "output_type": "error",
     "traceback": [
      "\u001b[0;31m---------------------------------------------------------------------------\u001b[0m",
      "\u001b[0;31mNameError\u001b[0m                                 Traceback (most recent call last)",
      "\u001b[0;32m<ipython-input-14-241e62c360d4>\u001b[0m in \u001b[0;36m<module>\u001b[0;34m\u001b[0m\n\u001b[1;32m     13\u001b[0m     \u001b[0mrr\u001b[0m\u001b[0;34m=\u001b[0m\u001b[0mnp\u001b[0m\u001b[0;34m.\u001b[0m\u001b[0mabs\u001b[0m\u001b[0;34m(\u001b[0m\u001b[0mnp\u001b[0m\u001b[0;34m.\u001b[0m\u001b[0mrandom\u001b[0m\u001b[0;34m.\u001b[0m\u001b[0mrand\u001b[0m\u001b[0;34m(\u001b[0m\u001b[0mespace\u001b[0m\u001b[0;34m.\u001b[0m\u001b[0mshape\u001b[0m\u001b[0;34m[\u001b[0m\u001b[0;36m0\u001b[0m\u001b[0;34m]\u001b[0m\u001b[0;34m)\u001b[0m\u001b[0;34m)\u001b[0m\u001b[0;34m\u001b[0m\u001b[0;34m\u001b[0m\u001b[0m\n\u001b[1;32m     14\u001b[0m     \u001b[0mrr\u001b[0m\u001b[0;34m[\u001b[0m\u001b[0mrr\u001b[0m\u001b[0;34m<\u001b[0m\u001b[0;36m0\u001b[0m\u001b[0;34m]\u001b[0m \u001b[0;34m=\u001b[0m \u001b[0;36m0.0\u001b[0m\u001b[0;34m\u001b[0m\u001b[0;34m\u001b[0m\u001b[0m\n\u001b[0;32m---> 15\u001b[0;31m     \u001b[0mb\u001b[0m\u001b[0;34m,\u001b[0m \u001b[0ma\u001b[0m \u001b[0;34m=\u001b[0m \u001b[0msignal\u001b[0m\u001b[0;34m.\u001b[0m\u001b[0mbutter\u001b[0m\u001b[0;34m(\u001b[0m\u001b[0;36m8\u001b[0m\u001b[0;34m,\u001b[0m \u001b[0mnp\u001b[0m\u001b[0;34m.\u001b[0m\u001b[0mrandom\u001b[0m\u001b[0;34m.\u001b[0m\u001b[0mrand\u001b[0m\u001b[0;34m(\u001b[0m\u001b[0;34m)\u001b[0m\u001b[0;34m)\u001b[0m\u001b[0;34m\u001b[0m\u001b[0;34m\u001b[0m\u001b[0m\n\u001b[0m\u001b[1;32m     16\u001b[0m     \u001b[0mrandombeam\u001b[0m  \u001b[0;34m=\u001b[0m \u001b[0;34m[\u001b[0m\u001b[0mnp\u001b[0m\u001b[0;34m.\u001b[0m\u001b[0mmatmul\u001b[0m\u001b[0;34m(\u001b[0m\u001b[0mR\u001b[0m\u001b[0;34m,\u001b[0m\u001b[0mnp\u001b[0m\u001b[0;34m.\u001b[0m\u001b[0mabs\u001b[0m\u001b[0;34m(\u001b[0m\u001b[0msignal\u001b[0m\u001b[0;34m.\u001b[0m\u001b[0mfiltfilt\u001b[0m\u001b[0;34m(\u001b[0m\u001b[0mb\u001b[0m\u001b[0;34m,\u001b[0m \u001b[0ma\u001b[0m\u001b[0;34m,\u001b[0m \u001b[0mrr\u001b[0m\u001b[0;34m,\u001b[0m \u001b[0mpadlen\u001b[0m\u001b[0;34m=\u001b[0m\u001b[0;36m20\u001b[0m\u001b[0;34m)\u001b[0m\u001b[0;34m)\u001b[0m\u001b[0;34m)\u001b[0m\u001b[0;34m,\u001b[0m\u001b[0mnp\u001b[0m\u001b[0;34m.\u001b[0m\u001b[0mabs\u001b[0m\u001b[0;34m(\u001b[0m\u001b[0msignal\u001b[0m\u001b[0;34m.\u001b[0m\u001b[0mfiltfilt\u001b[0m\u001b[0;34m(\u001b[0m\u001b[0mb\u001b[0m\u001b[0;34m,\u001b[0m \u001b[0ma\u001b[0m\u001b[0;34m,\u001b[0m \u001b[0mrr\u001b[0m\u001b[0;34m,\u001b[0m \u001b[0mpadlen\u001b[0m\u001b[0;34m=\u001b[0m\u001b[0;36m20\u001b[0m\u001b[0;34m)\u001b[0m\u001b[0;34m)\u001b[0m\u001b[0;34m]\u001b[0m\u001b[0;34m\u001b[0m\u001b[0;34m\u001b[0m\u001b[0m\n\u001b[1;32m     17\u001b[0m     \u001b[0mmx\u001b[0m\u001b[0;34m.\u001b[0m\u001b[0mappend\u001b[0m\u001b[0;34m(\u001b[0m\u001b[0mn_weighted_moment\u001b[0m\u001b[0;34m(\u001b[0m\u001b[0mxspace\u001b[0m\u001b[0;34m,\u001b[0m\u001b[0mrandombeam\u001b[0m\u001b[0;34m[\u001b[0m\u001b[0;36m0\u001b[0m\u001b[0;34m]\u001b[0m\u001b[0;34m,\u001b[0m\u001b[0;36m2\u001b[0m\u001b[0;34m)\u001b[0m\u001b[0;34m)\u001b[0m\u001b[0;34m\u001b[0m\u001b[0;34m\u001b[0m\u001b[0m\n",
      "\u001b[0;31mNameError\u001b[0m: name 'signal' is not defined"
     ]
    }
   ],
   "source": [
    "mx = []\n",
    "my = []\n",
    "\n",
    "beams = []\n",
    "for i in range(1,5000,1):\n",
    "    #beams = [ex(i,0,1000,1e10),gauss(200,i,0,1000,1e10),gauss(i,500,0,1000,1e10),gauss(i,700,0,1000,1e10), gauss(i,100,0,1000,1e10),mono(i*10,1e10),ex(200,i,1000,1e10)]\n",
    "    #beams.append(gauss(500,400,0,i,1e10))\n",
    "    #beams.append(gauss(200,400,0,i,1e10))\n",
    "    #beams.append(gauss(100,400,0,i,1e10))\n",
    "    #beams.append(gauss(50,400,0,i,1e10))\n",
    "\n",
    "\n",
    "    rr=np.abs(np.random.rand(espace.shape[0]))\n",
    "    rr[rr<0] = 0.0ff\n",
    "    b, a = signal.butter(8, np.random.rand())\n",
    "    randombeam  = [np.matmul(R,np.abs(signal.filtfilt(b, a, rr, padlen=20))),np.abs(signal.filtfilt(b, a, rr, padlen=20))]\n",
    "    mx.append(n_weighted_moment(xspace,randombeam[0],2))\n",
    "    my.append(n_weighted_moment(espace,randombeam[1],2))\n",
    "    beams.append(randombeam)\n"
   ]
  },
  {
   "cell_type": "code",
   "execution_count": 677,
   "id": "graduate-ideal",
   "metadata": {},
   "outputs": [
    {
     "data": {
      "text/plain": [
       "[<matplotlib.lines.Line2D at 0x7fd1c9503940>]"
      ]
     },
     "execution_count": 677,
     "metadata": {},
     "output_type": "execute_result"
    },
    {
     "data": {
      "image/png": "[encoded data removed]",
      "text/plain": [
       "<Figure size 432x288 with 1 Axes>"
      ]
     },
     "metadata": {
      "needs_background": "light"
     },
     "output_type": "display_data"
    }
   ],
   "source": [
    "plt.plot(mx,my,'x')\n"
   ]
  },
  {
   "cell_type": "code",
   "execution_count": 678,
   "id": "pointed-remedy",
   "metadata": {},
   "outputs": [
    {
     "data": {
      "text/plain": [
       "array([  70.        ,   95.13513514,  120.27027027,  145.40540541,\n",
       "        170.54054054,  195.67567568,  220.81081081,  245.94594595,\n",
       "        271.08108108,  296.21621622,  321.35135135,  346.48648649,\n",
       "        371.62162162,  396.75675676,  421.89189189,  447.02702703,\n",
       "        472.16216216,  497.2972973 ,  522.43243243,  547.56756757,\n",
       "        572.7027027 ,  597.83783784,  622.97297297,  648.10810811,\n",
       "        673.24324324,  698.37837838,  723.51351351,  748.64864865,\n",
       "        773.78378378,  798.91891892,  824.05405405,  849.18918919,\n",
       "        874.32432432,  899.45945946,  924.59459459,  949.72972973,\n",
       "        974.86486486, 1000.        ])"
      ]
     },
     "execution_count": 678,
     "metadata": {},
     "output_type": "execute_result"
    }
   ],
   "source": [
    "espace"
   ]
  },
  {
   "cell_type": "code",
   "execution_count": 713,
   "id": "informed-drove",
   "metadata": {},
   "outputs": [
    {
     "data": {
      "text/plain": [
       "92.21275647331537"
      ]
     },
     "execution_count": 713,
     "metadata": {},
     "output_type": "execute_result"
    }
   ],
   "source": [
    "np.random.rand()*100"
   ]
  },
  {
   "cell_type": "raw",
   "id": "suburban-pontiac",
   "metadata": {},
   "source": [
    "fit a bunch of different distributions and the moments are basically the same. \n",
    "\n",
    "some kind of mapping between the x-ray spectrum and the moments of the electron spectrum\n",
    "\n",
    "\n"
   ]
  },
  {
   "cell_type": "code",
   "execution_count": 11,
   "id": "julian-peripheral",
   "metadata": {},
   "outputs": [
    {
     "data": {
      "text/plain": [
       "[<matplotlib.lines.Line2D at 0x7fbf60502d00>]"
      ]
     },
     "execution_count": 11,
     "metadata": {},
     "output_type": "execute_result"
    },
    {
     "data": {
      "image/png": "[encoded data removed]",
      "text/plain": [
       "<Figure size 432x288 with 1 Axes>"
      ]
     },
     "metadata": {
      "needs_background": "light"
     },
     "output_type": "display_data"
    }
   ],
   "source": [
    "plt.plot(R[:,10])"
   ]
  },
  {
   "cell_type": "code",
   "execution_count": 12,
   "id": "tropical-registration",
   "metadata": {},
   "outputs": [
    {
     "data": {
      "text/plain": [
       "[<matplotlib.lines.Line2D at 0x7fbf30033d60>]"
      ]
     },
     "execution_count": 12,
     "metadata": {},
     "output_type": "execute_result"
    },
    {
     "data": {
      "image/png": "[encoded data removed]",
      "text/plain": [
       "<Figure size 432x288 with 1 Axes>"
      ]
     },
     "metadata": {
      "needs_background": "light"
     },
     "output_type": "display_data"
    }
   ],
   "source": []
  },
  {
   "cell_type": "code",
   "execution_count": 13,
   "id": "global-lindsay",
   "metadata": {},
   "outputs": [
    {
     "ename": "NameError",
     "evalue": "name 'heretic' is not defined",
     "output_type": "error",
     "traceback": [
      "\u001b[0;31m---------------------------------------------------------------------------\u001b[0m",
      "\u001b[0;31mNameError\u001b[0m                                 Traceback (most recent call last)",
      "\u001b[0;32m<ipython-input-13-140071712394>\u001b[0m in \u001b[0;36m<module>\u001b[0;34m\u001b[0m\n\u001b[0;32m----> 1\u001b[0;31m \u001b[0mheretic\u001b[0m\u001b[0;34m\u001b[0m\u001b[0;34m\u001b[0m\u001b[0m\n\u001b[0m",
      "\u001b[0;31mNameError\u001b[0m: name 'heretic' is not defined"
     ]
    }
   ],
   "source": []
  },
  {
   "cell_type": "code",
   "execution_count": null,
   "id": "noticed-trauma",
   "metadata": {},
   "outputs": [],
   "source": []
  }
 ],
 "metadata": {
  "kernelspec": {
   "display_name": "Python 3",
   "language": "python",
   "name": "python3"
  },
  "language_info": {
   "codemirror_mode": {
    "name": "ipython",
    "version": 3
   },
   "file_extension": ".py",
   "mimetype": "text/x-python",
   "name": "python",
   "nbconvert_exporter": "python",
   "pygments_lexer": "ipython3",
   "version": "3.9.1"
  }
 },
 "nbformat": 4,
 "nbformat_minor": 5
}
