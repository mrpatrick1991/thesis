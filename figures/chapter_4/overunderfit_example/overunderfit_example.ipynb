{
 "cells": [
  {
   "cell_type": "code",
   "execution_count": 6,
   "source": [
    "import scipy\n",
    "from numpy.random import normal\n",
    "import numpy as np\n",
    "import matplotlib.pyplot as plt\n",
    "from scipy.stats import chisquare\n",
    "import matplotlib\n",
    "\n",
    "plt.rcParams['mathtext.fontset'] = 'stix'\n",
    "plt.rcParams['font.family'] = 'STIXGeneral'\n",
    "plt.rc('font', size=12) \n",
    "%config InlineBackend.figure_format = 'svg'"
   ],
   "outputs": [],
   "metadata": {}
  },
  {
   "cell_type": "code",
   "execution_count": 7,
   "source": [
    "np.random.seed(123)\n",
    "noise = np.random.normal(0,.5,20)\n",
    "\n",
    "fun = []\n",
    "for i in np.linspace(0,4*3.14,20):\n",
    "    fun.append(5.0+np.sin(i))\n",
    "fun = np.array(fun)\n",
    "\n",
    "x = np.array(range(0,20))\n",
    "\n",
    "data = noise+fun"
   ],
   "outputs": [],
   "metadata": {}
  },
  {
   "cell_type": "code",
   "execution_count": 8,
   "source": [
    "plt.plot(noise + fun,'.')"
   ],
   "outputs": [
    {
     "output_type": "execute_result",
     "data": {
      "text/plain": [
       "[<matplotlib.lines.Line2D at 0x7ff1c941c460>]"
      ]
     },
     "metadata": {},
     "execution_count": 8
    }
   ],
   "metadata": {}
  },
  {
   "cell_type": "code",
   "execution_count": 9,
   "source": [
    "x.shape"
   ],
   "outputs": [
    {
     "output_type": "execute_result",
     "data": {
      "text/plain": [
       "(20,)"
      ]
     },
     "metadata": {},
     "execution_count": 9
    }
   ],
   "metadata": {}
  },
  {
   "cell_type": "code",
   "execution_count": 10,
   "source": [
    "m0 = np.polyfit(x,data,0)\n",
    "m1 = np.polyfit(x,data,8)\n",
    "m2 = np.polyfit(x,data,20)\n",
    "\n",
    "plt.plot(x,data,'.')\n",
    "plt.plot(x,np.polyval(m0,x))\n",
    "plt.plot(x,np.polyval(m1,x))\n",
    "plt.plot(x,np.polyval(m2,x))\n",
    "\n",
    "plt.show()\n",
    "\n"
   ],
   "outputs": [
    {
     "output_type": "stream",
     "name": "stderr",
     "text": [
      "/Users/patrick/opt/anaconda3/lib/python3.8/site-packages/IPython/core/interactiveshell.py:3441: RankWarning: Polyfit may be poorly conditioned\n",
      "  exec(code_obj, self.user_global_ns, self.user_ns)\n"
     ]
    },
    {
     "output_type": "display_data",
     "data": {
      "text/plain": [
       "<Figure size 640x480 with 1 Axes>"
      ],
      "image/svg+xml": "<?xml version=\"1.0\" encoding=\"utf-8\" standalone=\"no\"?>\n<!DOCTYPE svg PUBLIC \"-//W3C//DTD SVG 1.1//EN\"\n  \"http://www.w3.org/Graphics/SVG/1.1/DTD/svg11.dtd\">\n<!-- Created with matplotlib (https://matplotlib.org/) -->\n<svg height=\"298.312pt\" version=\"1.1\" viewBox=\"0 0 393.52 298.312\" width=\"393.52pt\" xmlns=\"http://www.w3.org/2000/svg\" xmlns:xlink=\"http://www.w3.org/1999/xlink\">\n <metadata>\n  <rdf:RDF xmlns:cc=\"http://creativecommons.org/ns#\" xmlns:dc=\"http://purl.org/dc/elements/1.1/\" xmlns:rdf=\"http://www.w3.org/1999/02/22-rdf-syntax-ns#\">\n   <cc:Work>\n    <dc:type rdf:resource=\"http://purl.org/dc/dcmitype/StillImage\"/>\n    <dc:date>2021-08-23T15:11:44.476316</dc:date>\n    <dc:format>image/svg+xml</dc:format>\n    <dc:creator>\n     <cc:Agent>\n      <dc:title>Matplotlib v3.3.4, https://matplotlib.org/</dc:title>\n     </cc:Agent>\n    </dc:creator>\n   </cc:Work>\n  </rdf:RDF>\n </metadata>\n <defs>\n  <style type=\"text/css\">*{stroke-linecap:butt;stroke-linejoin:round;}</style>\n </defs>\n <g id=\"figure_1\">\n  <g id=\"patch_1\">\n   <path d=\"M 0 298.312 \nL 393.52 298.312 \nL 393.52 0 \nL 0 0 \nz\n\" style=\"fill:#ffffff;\"/>\n  </g>\n  <g id=\"axes_1\">\n   <g id=\"patch_2\">\n    <path d=\"M 29.2 273.312 \nL 386.32 273.312 \nL 386.32 7.2 \nL 29.2 7.2 \nz\n\" style=\"fill:#ffffff;\"/>\n   </g>\n   <g id=\"matplotlib.axis_1\">\n    <g id=\"xtick_1\">\n     <g id=\"line2d_1\">\n      <defs>\n       <path d=\"M 0 0 \nL 0 3.5 \n\" id=\"meb1d2973bc\" style=\"stroke:#000000;stroke-width:0.8;\"/>\n      </defs>\n      <g>\n       <use style=\"stroke:#000000;stroke-width:0.8;\" x=\"45.432727\" xlink:href=\"#meb1d2973bc\" y=\"273.312\"/>\n      </g>\n     </g>\n     <g id=\"text_1\">\n      <!-- 0.0 -->\n      <g transform=\"translate(37.932727 288.507625)scale(0.12 -0.12)\">\n       <defs>\n        <path d=\"M 47.59375 33 \nQ 47.59375 26.296875 46.296875 20.34375 \nQ 45 14.40625 42.453125 9.40625 \nQ 39.90625 4.40625 35.40625 1.5 \nQ 30.90625 -1.40625 25 -1.40625 \nQ 18.90625 -1.40625 14.296875 1.6875 \nQ 9.703125 4.796875 7.203125 10 \nQ 4.703125 15.203125 3.546875 21.09375 \nQ 2.40625 27 2.40625 33.59375 \nQ 2.40625 42.90625 4.703125 50.34375 \nQ 7 57.796875 12.34375 62.6875 \nQ 17.703125 67.59375 25.40625 67.59375 \nQ 35.203125 67.59375 41.390625 58 \nQ 47.59375 48.40625 47.59375 33 \nz\nM 38 32.5 \nQ 38 48.296875 34.640625 56.640625 \nQ 31.296875 65 24.796875 65 \nQ 18.59375 65 15.296875 56.59375 \nQ 12 48.203125 12 32.90625 \nQ 12 17.5 15.296875 9.34375 \nQ 18.59375 1.203125 25 1.203125 \nQ 31.296875 1.203125 34.640625 9.34375 \nQ 38 17.5 38 32.5 \nz\n\" id=\"STIXGeneral-Regular-48\"/>\n        <path d=\"M 18.09375 4.296875 \nQ 18.09375 2.09375 16.4375 0.5 \nQ 14.796875 -1.09375 12.5 -1.09375 \nQ 10.203125 -1.09375 8.59375 0.5 \nQ 7 2.09375 7 4.390625 \nQ 7 6.703125 8.640625 8.34375 \nQ 10.296875 10 12.59375 10 \nQ 14.796875 10 16.4375 8.296875 \nQ 18.09375 6.59375 18.09375 4.296875 \nz\n\" id=\"STIXGeneral-Regular-46\"/>\n       </defs>\n       <use xlink:href=\"#STIXGeneral-Regular-48\"/>\n       <use x=\"49.999985\" xlink:href=\"#STIXGeneral-Regular-46\"/>\n       <use x=\"74.999969\" xlink:href=\"#STIXGeneral-Regular-48\"/>\n      </g>\n     </g>\n    </g>\n    <g id=\"xtick_2\">\n     <g id=\"line2d_2\">\n      <g>\n       <use style=\"stroke:#000000;stroke-width:0.8;\" x=\"88.150431\" xlink:href=\"#meb1d2973bc\" y=\"273.312\"/>\n      </g>\n     </g>\n     <g id=\"text_2\">\n      <!-- 2.5 -->\n      <g transform=\"translate(80.650431 288.507625)scale(0.12 -0.12)\">\n       <defs>\n        <path d=\"M 47.40625 13.703125 \nL 42 0 \nL 2.90625 0 \nL 2.90625 1.203125 \nL 20.703125 20.09375 \nQ 27.703125 27.40625 30.703125 33.5 \nQ 33.703125 39.59375 33.703125 46.09375 \nQ 33.703125 52.796875 30 56.5 \nQ 26.296875 60.203125 19.796875 60.203125 \nQ 14.40625 60.203125 11.25 57.390625 \nQ 8.09375 54.59375 5.09375 47.203125 \nL 3 47.703125 \nQ 4.703125 57 9.84375 62.296875 \nQ 15 67.59375 23.796875 67.59375 \nQ 32.09375 67.59375 37.1875 62.59375 \nQ 42.296875 57.59375 42.296875 50 \nQ 42.296875 38.703125 29.5 25.203125 \nL 13 7.59375 \nL 36.40625 7.59375 \nQ 39.703125 7.59375 41.640625 8.890625 \nQ 43.59375 10.203125 46 14.296875 \nz\n\" id=\"STIXGeneral-Regular-50\"/>\n        <path d=\"M 43.796875 68.09375 \nL 40.203125 59.59375 \nQ 39.59375 58.296875 37.5 58.296875 \nL 18.09375 58.296875 \nL 14.09375 49.796875 \nQ 25.09375 47.703125 30 45.25 \nQ 34.90625 42.796875 39.09375 37 \nQ 42.59375 32.203125 42.59375 24.296875 \nQ 42.59375 17.09375 40.25 12.1875 \nQ 37.90625 7.296875 32.796875 3.5 \nQ 26 -1.40625 15.796875 -1.40625 \nQ 10.09375 -1.40625 6.59375 0.296875 \nQ 3.09375 2 3.09375 4.796875 \nQ 3.09375 8.59375 7.59375 8.59375 \nQ 11.203125 8.59375 15 5.5 \nQ 18.90625 2.296875 22.09375 2.296875 \nQ 27.296875 2.296875 31.4375 7.5 \nQ 35.59375 12.703125 35.59375 19.203125 \nQ 35.59375 28.796875 28.90625 34.203125 \nQ 20.203125 41.203125 7.59375 41.203125 \nQ 6.40625 41.203125 6.40625 42 \nL 6.5 42.5 \nL 17.40625 66.203125 \nL 38.09375 66.203125 \nQ 39.796875 66.203125 40.75 66.703125 \nQ 41.703125 67.203125 42.90625 68.796875 \nz\n\" id=\"STIXGeneral-Regular-53\"/>\n       </defs>\n       <use xlink:href=\"#STIXGeneral-Regular-50\"/>\n       <use x=\"49.999985\" xlink:href=\"#STIXGeneral-Regular-46\"/>\n       <use x=\"74.999969\" xlink:href=\"#STIXGeneral-Regular-53\"/>\n      </g>\n     </g>\n    </g>\n    <g id=\"xtick_3\">\n     <g id=\"line2d_3\">\n      <g>\n       <use style=\"stroke:#000000;stroke-width:0.8;\" x=\"130.868134\" xlink:href=\"#meb1d2973bc\" y=\"273.312\"/>\n      </g>\n     </g>\n     <g id=\"text_3\">\n      <!-- 5.0 -->\n      <g transform=\"translate(123.368134 288.507625)scale(0.12 -0.12)\">\n       <use xlink:href=\"#STIXGeneral-Regular-53\"/>\n       <use x=\"49.999985\" xlink:href=\"#STIXGeneral-Regular-46\"/>\n       <use x=\"74.999969\" xlink:href=\"#STIXGeneral-Regular-48\"/>\n      </g>\n     </g>\n    </g>\n    <g id=\"xtick_4\">\n     <g id=\"line2d_4\">\n      <g>\n       <use style=\"stroke:#000000;stroke-width:0.8;\" x=\"173.585837\" xlink:href=\"#meb1d2973bc\" y=\"273.312\"/>\n      </g>\n     </g>\n     <g id=\"text_4\">\n      <!-- 7.5 -->\n      <g transform=\"translate(166.085837 288.507625)scale(0.12 -0.12)\">\n       <defs>\n        <path d=\"M 44.90625 64.59375 \nL 23.703125 -0.796875 \nL 17.203125 -0.796875 \nL 37 58.796875 \nL 15.5 58.796875 \nQ 11.203125 58.796875 9.09375 57.296875 \nQ 7 55.796875 3.796875 50.59375 \nL 2 51.5 \nL 8 66.203125 \nL 44.90625 66.203125 \nz\n\" id=\"STIXGeneral-Regular-55\"/>\n       </defs>\n       <use xlink:href=\"#STIXGeneral-Regular-55\"/>\n       <use x=\"49.999985\" xlink:href=\"#STIXGeneral-Regular-46\"/>\n       <use x=\"74.999969\" xlink:href=\"#STIXGeneral-Regular-53\"/>\n      </g>\n     </g>\n    </g>\n    <g id=\"xtick_5\">\n     <g id=\"line2d_5\">\n      <g>\n       <use style=\"stroke:#000000;stroke-width:0.8;\" x=\"216.303541\" xlink:href=\"#meb1d2973bc\" y=\"273.312\"/>\n      </g>\n     </g>\n     <g id=\"text_5\">\n      <!-- 10.0 -->\n      <g transform=\"translate(205.803541 288.507625)scale(0.12 -0.12)\">\n       <defs>\n        <path d=\"M 39.40625 0 \nL 11.796875 0 \nL 11.796875 1.5 \nQ 17.296875 1.796875 19.296875 3.546875 \nQ 21.296875 5.296875 21.296875 9.5 \nL 21.296875 54.40625 \nQ 21.296875 59.296875 18.296875 59.296875 \nQ 16.90625 59.296875 13.796875 58.09375 \nL 11.09375 57.09375 \nL 11.09375 58.5 \nL 29 67.59375 \nL 29.90625 67.296875 \nL 29.90625 7.59375 \nQ 29.90625 4.296875 31.90625 2.890625 \nQ 33.90625 1.5 39.40625 1.5 \nz\n\" id=\"STIXGeneral-Regular-49\"/>\n       </defs>\n       <use xlink:href=\"#STIXGeneral-Regular-49\"/>\n       <use x=\"49.999985\" xlink:href=\"#STIXGeneral-Regular-48\"/>\n       <use x=\"99.999969\" xlink:href=\"#STIXGeneral-Regular-46\"/>\n       <use x=\"124.999954\" xlink:href=\"#STIXGeneral-Regular-48\"/>\n      </g>\n     </g>\n    </g>\n    <g id=\"xtick_6\">\n     <g id=\"line2d_6\">\n      <g>\n       <use style=\"stroke:#000000;stroke-width:0.8;\" x=\"259.021244\" xlink:href=\"#meb1d2973bc\" y=\"273.312\"/>\n      </g>\n     </g>\n     <g id=\"text_6\">\n      <!-- 12.5 -->\n      <g transform=\"translate(248.521244 288.507625)scale(0.12 -0.12)\">\n       <use xlink:href=\"#STIXGeneral-Regular-49\"/>\n       <use x=\"49.999985\" xlink:href=\"#STIXGeneral-Regular-50\"/>\n       <use x=\"99.999969\" xlink:href=\"#STIXGeneral-Regular-46\"/>\n       <use x=\"124.999954\" xlink:href=\"#STIXGeneral-Regular-53\"/>\n      </g>\n     </g>\n    </g>\n    <g id=\"xtick_7\">\n     <g id=\"line2d_7\">\n      <g>\n       <use style=\"stroke:#000000;stroke-width:0.8;\" x=\"301.738947\" xlink:href=\"#meb1d2973bc\" y=\"273.312\"/>\n      </g>\n     </g>\n     <g id=\"text_7\">\n      <!-- 15.0 -->\n      <g transform=\"translate(291.238947 288.507625)scale(0.12 -0.12)\">\n       <use xlink:href=\"#STIXGeneral-Regular-49\"/>\n       <use x=\"49.999985\" xlink:href=\"#STIXGeneral-Regular-53\"/>\n       <use x=\"99.999969\" xlink:href=\"#STIXGeneral-Regular-46\"/>\n       <use x=\"124.999954\" xlink:href=\"#STIXGeneral-Regular-48\"/>\n      </g>\n     </g>\n    </g>\n    <g id=\"xtick_8\">\n     <g id=\"line2d_8\">\n      <g>\n       <use style=\"stroke:#000000;stroke-width:0.8;\" x=\"344.456651\" xlink:href=\"#meb1d2973bc\" y=\"273.312\"/>\n      </g>\n     </g>\n     <g id=\"text_8\">\n      <!-- 17.5 -->\n      <g transform=\"translate(333.956651 288.507625)scale(0.12 -0.12)\">\n       <use xlink:href=\"#STIXGeneral-Regular-49\"/>\n       <use x=\"49.999985\" xlink:href=\"#STIXGeneral-Regular-55\"/>\n       <use x=\"99.999969\" xlink:href=\"#STIXGeneral-Regular-46\"/>\n       <use x=\"124.999954\" xlink:href=\"#STIXGeneral-Regular-53\"/>\n      </g>\n     </g>\n    </g>\n   </g>\n   <g id=\"matplotlib.axis_2\">\n    <g id=\"ytick_1\">\n     <g id=\"line2d_9\">\n      <defs>\n       <path d=\"M 0 0 \nL -3.5 0 \n\" id=\"m951f41b009\" style=\"stroke:#000000;stroke-width:0.8;\"/>\n      </defs>\n      <g>\n       <use style=\"stroke:#000000;stroke-width:0.8;\" x=\"29.2\" xlink:href=\"#m951f41b009\" y=\"260.741918\"/>\n      </g>\n     </g>\n     <g id=\"text_9\">\n      <!-- 3.0 -->\n      <g transform=\"translate(7.2 264.839731)scale(0.12 -0.12)\">\n       <defs>\n        <path d=\"M 6.09375 51 \nL 4.5 51.40625 \nQ 6.796875 58.90625 11.6875 63.25 \nQ 16.59375 67.59375 24.09375 67.59375 \nQ 31.09375 67.59375 35.390625 63.796875 \nQ 39.703125 60 39.703125 53.90625 \nQ 39.703125 45.703125 30.40625 40.09375 \nQ 35.90625 37.703125 38.703125 34.796875 \nQ 43.09375 29.90625 43.09375 21.90625 \nQ 43.09375 13.90625 38.5 7.90625 \nQ 35.09375 3.296875 28.75 0.9375 \nQ 22.40625 -1.40625 15.296875 -1.40625 \nQ 4.09375 -1.40625 4.09375 4.296875 \nQ 4.09375 5.90625 5.296875 6.90625 \nQ 6.5 7.90625 8.203125 7.90625 \nQ 10.703125 7.90625 14.296875 5.296875 \nQ 18.703125 2.203125 22.90625 2.203125 \nQ 28.40625 2.203125 32.15625 6.640625 \nQ 35.90625 11.09375 35.90625 17.5 \nQ 35.90625 29 25.5 32 \nQ 22.40625 33 15.296875 33 \nL 15.296875 34.40625 \nQ 20.90625 36.296875 23.703125 38 \nQ 31.796875 42.59375 31.796875 51.40625 \nQ 31.796875 56.40625 28.9375 59 \nQ 26.09375 61.59375 21 61.59375 \nQ 12 61.59375 6.09375 51 \nz\n\" id=\"STIXGeneral-Regular-51\"/>\n       </defs>\n       <use xlink:href=\"#STIXGeneral-Regular-51\"/>\n       <use x=\"49.999985\" xlink:href=\"#STIXGeneral-Regular-46\"/>\n       <use x=\"74.999969\" xlink:href=\"#STIXGeneral-Regular-48\"/>\n      </g>\n     </g>\n    </g>\n    <g id=\"ytick_2\">\n     <g id=\"line2d_10\">\n      <g>\n       <use style=\"stroke:#000000;stroke-width:0.8;\" x=\"29.2\" xlink:href=\"#m951f41b009\" y=\"228.485507\"/>\n      </g>\n     </g>\n     <g id=\"text_10\">\n      <!-- 3.5 -->\n      <g transform=\"translate(7.2 232.583319)scale(0.12 -0.12)\">\n       <use xlink:href=\"#STIXGeneral-Regular-51\"/>\n       <use x=\"49.999985\" xlink:href=\"#STIXGeneral-Regular-46\"/>\n       <use x=\"74.999969\" xlink:href=\"#STIXGeneral-Regular-53\"/>\n      </g>\n     </g>\n    </g>\n    <g id=\"ytick_3\">\n     <g id=\"line2d_11\">\n      <g>\n       <use style=\"stroke:#000000;stroke-width:0.8;\" x=\"29.2\" xlink:href=\"#m951f41b009\" y=\"196.229095\"/>\n      </g>\n     </g>\n     <g id=\"text_11\">\n      <!-- 4.0 -->\n      <g transform=\"translate(7.2 200.326908)scale(0.12 -0.12)\">\n       <defs>\n        <path d=\"M 47.296875 16.703125 \nL 37 16.703125 \nL 37 0 \nL 29.203125 0 \nL 29.203125 16.703125 \nL 1.203125 16.703125 \nL 1.203125 23.09375 \nL 32.59375 67.59375 \nL 37 67.59375 \nL 37 23.09375 \nL 47.296875 23.09375 \nz\nM 29.203125 23.09375 \nL 29.203125 57.40625 \nL 5.203125 23.09375 \nz\n\" id=\"STIXGeneral-Regular-52\"/>\n       </defs>\n       <use xlink:href=\"#STIXGeneral-Regular-52\"/>\n       <use x=\"49.999985\" xlink:href=\"#STIXGeneral-Regular-46\"/>\n       <use x=\"74.999969\" xlink:href=\"#STIXGeneral-Regular-48\"/>\n      </g>\n     </g>\n    </g>\n    <g id=\"ytick_4\">\n     <g id=\"line2d_12\">\n      <g>\n       <use style=\"stroke:#000000;stroke-width:0.8;\" x=\"29.2\" xlink:href=\"#m951f41b009\" y=\"163.972683\"/>\n      </g>\n     </g>\n     <g id=\"text_12\">\n      <!-- 4.5 -->\n      <g transform=\"translate(7.2 168.070496)scale(0.12 -0.12)\">\n       <use xlink:href=\"#STIXGeneral-Regular-52\"/>\n       <use x=\"49.999985\" xlink:href=\"#STIXGeneral-Regular-46\"/>\n       <use x=\"74.999969\" xlink:href=\"#STIXGeneral-Regular-53\"/>\n      </g>\n     </g>\n    </g>\n    <g id=\"ytick_5\">\n     <g id=\"line2d_13\">\n      <g>\n       <use style=\"stroke:#000000;stroke-width:0.8;\" x=\"29.2\" xlink:href=\"#m951f41b009\" y=\"131.716272\"/>\n      </g>\n     </g>\n     <g id=\"text_13\">\n      <!-- 5.0 -->\n      <g transform=\"translate(7.2 135.814084)scale(0.12 -0.12)\">\n       <use xlink:href=\"#STIXGeneral-Regular-53\"/>\n       <use x=\"49.999985\" xlink:href=\"#STIXGeneral-Regular-46\"/>\n       <use x=\"74.999969\" xlink:href=\"#STIXGeneral-Regular-48\"/>\n      </g>\n     </g>\n    </g>\n    <g id=\"ytick_6\">\n     <g id=\"line2d_14\">\n      <g>\n       <use style=\"stroke:#000000;stroke-width:0.8;\" x=\"29.2\" xlink:href=\"#m951f41b009\" y=\"99.45986\"/>\n      </g>\n     </g>\n     <g id=\"text_14\">\n      <!-- 5.5 -->\n      <g transform=\"translate(7.2 103.557673)scale(0.12 -0.12)\">\n       <use xlink:href=\"#STIXGeneral-Regular-53\"/>\n       <use x=\"49.999985\" xlink:href=\"#STIXGeneral-Regular-46\"/>\n       <use x=\"74.999969\" xlink:href=\"#STIXGeneral-Regular-53\"/>\n      </g>\n     </g>\n    </g>\n    <g id=\"ytick_7\">\n     <g id=\"line2d_15\">\n      <g>\n       <use style=\"stroke:#000000;stroke-width:0.8;\" x=\"29.2\" xlink:href=\"#m951f41b009\" y=\"67.203448\"/>\n      </g>\n     </g>\n     <g id=\"text_15\">\n      <!-- 6.0 -->\n      <g transform=\"translate(7.2 71.301261)scale(0.12 -0.12)\">\n       <defs>\n        <path d=\"M 44.59375 68.40625 \nL 44.796875 66.796875 \nQ 33 64.90625 25.09375 57.25 \nQ 17.203125 49.59375 15.203125 38.296875 \nQ 21 42.796875 27.90625 42.796875 \nQ 36.703125 42.796875 41.75 37.1875 \nQ 46.796875 31.59375 46.796875 21.90625 \nQ 46.796875 12.09375 41.703125 5.90625 \nQ 35.796875 -1.40625 25.796875 -1.40625 \nQ 13.59375 -1.40625 8.09375 8.703125 \nQ 3.40625 17.296875 3.40625 27.90625 \nQ 3.40625 44.296875 14.296875 55.5 \nQ 20.5 61.90625 27.046875 64.546875 \nQ 33.59375 67.203125 44.59375 68.40625 \nz\nM 37.796875 18.796875 \nQ 37.796875 38.203125 24.296875 38.203125 \nQ 19.296875 38.203125 16 35.546875 \nQ 12.703125 32.90625 12.703125 26.59375 \nQ 12.703125 14.90625 16.34375 8.15625 \nQ 20 1.40625 26.90625 1.40625 \nQ 32.203125 1.40625 35 6.15625 \nQ 37.796875 10.90625 37.796875 18.796875 \nz\n\" id=\"STIXGeneral-Regular-54\"/>\n       </defs>\n       <use xlink:href=\"#STIXGeneral-Regular-54\"/>\n       <use x=\"49.999985\" xlink:href=\"#STIXGeneral-Regular-46\"/>\n       <use x=\"74.999969\" xlink:href=\"#STIXGeneral-Regular-48\"/>\n      </g>\n     </g>\n    </g>\n    <g id=\"ytick_8\">\n     <g id=\"line2d_16\">\n      <g>\n       <use style=\"stroke:#000000;stroke-width:0.8;\" x=\"29.2\" xlink:href=\"#m951f41b009\" y=\"34.947037\"/>\n      </g>\n     </g>\n     <g id=\"text_16\">\n      <!-- 6.5 -->\n      <g transform=\"translate(7.2 39.044849)scale(0.12 -0.12)\">\n       <use xlink:href=\"#STIXGeneral-Regular-54\"/>\n       <use x=\"49.999985\" xlink:href=\"#STIXGeneral-Regular-46\"/>\n       <use x=\"74.999969\" xlink:href=\"#STIXGeneral-Regular-53\"/>\n      </g>\n     </g>\n    </g>\n   </g>\n   <g id=\"line2d_17\">\n    <defs>\n     <path d=\"M 0 1.5 \nC 0.397805 1.5 0.77937 1.341951 1.06066 1.06066 \nC 1.341951 0.77937 1.5 0.397805 1.5 0 \nC 1.5 -0.397805 1.341951 -0.77937 1.06066 -1.06066 \nC 0.77937 -1.341951 0.397805 -1.5 0 -1.5 \nC -0.397805 -1.5 -0.77937 -1.341951 -1.06066 -1.06066 \nC -1.341951 -0.77937 -1.5 -0.397805 -1.5 0 \nC -1.5 0.397805 -1.341951 0.77937 -1.06066 1.06066 \nC -0.77937 1.341951 -0.397805 1.5 0 1.5 \nz\n\" id=\"mc46ba87c4a\" style=\"stroke:#1f77b4;\"/>\n    </defs>\n    <g clip-path=\"url(#pc9f90e78b1)\">\n     <use style=\"fill:#1f77b4;stroke:#1f77b4;\" x=\"45.432727\" xlink:href=\"#mc46ba87c4a\" y=\"166.734819\"/>\n     <use style=\"fill:#1f77b4;stroke:#1f77b4;\" x=\"62.519809\" xlink:href=\"#mc46ba87c4a\" y=\"59.937962\"/>\n     <use style=\"fill:#1f77b4;stroke:#1f77b4;\" x=\"79.60689\" xlink:href=\"#mc46ba87c4a\" y=\"60.060287\"/>\n     <use style=\"fill:#1f77b4;stroke:#1f77b4;\" x=\"96.693971\" xlink:href=\"#mc46ba87c4a\" y=\"121.198774\"/>\n     <use style=\"fill:#1f77b4;stroke:#1f77b4;\" x=\"113.781053\" xlink:href=\"#mc46ba87c4a\" y=\"119.599062\"/>\n     <use style=\"fill:#1f77b4;stroke:#1f77b4;\" x=\"130.868134\" xlink:href=\"#mc46ba87c4a\" y=\"88.958623\"/>\n     <use style=\"fill:#1f77b4;stroke:#1f77b4;\" x=\"147.955215\" xlink:href=\"#mc46ba87c4a\" y=\"257.367866\"/>\n     <use style=\"fill:#1f77b4;stroke:#1f77b4;\" x=\"165.042297\" xlink:href=\"#mc46ba87c4a\" y=\"209.831252\"/>\n     <use style=\"fill:#1f77b4;stroke:#1f77b4;\" x=\"182.129378\" xlink:href=\"#mc46ba87c4a\" y=\"144.984137\"/>\n     <use style=\"fill:#1f77b4;stroke:#1f77b4;\" x=\"199.216459\" xlink:href=\"#mc46ba87c4a\" y=\"180.80552\"/>\n     <use style=\"fill:#1f77b4;stroke:#1f77b4;\" x=\"216.303541\" xlink:href=\"#mc46ba87c4a\" y=\"132.872129\"/>\n     <use style=\"fill:#1f77b4;stroke:#1f77b4;\" x=\"233.390622\" xlink:href=\"#mc46ba87c4a\" y=\"80.893778\"/>\n     <use style=\"fill:#1f77b4;stroke:#1f77b4;\" x=\"250.477703\" xlink:href=\"#mc46ba87c4a\" y=\"19.296\"/>\n     <use style=\"fill:#1f77b4;stroke:#1f77b4;\" x=\"267.564785\" xlink:href=\"#mc46ba87c4a\" y=\"104.67133\"/>\n     <use style=\"fill:#1f77b4;stroke:#1f77b4;\" x=\"284.651866\" xlink:href=\"#mc46ba87c4a\" y=\"135.120491\"/>\n     <use style=\"fill:#1f77b4;stroke:#1f77b4;\" x=\"301.738947\" xlink:href=\"#mc46ba87c4a\" y=\"176.145852\"/>\n     <use style=\"fill:#1f77b4;stroke:#1f77b4;\" x=\"318.826029\" xlink:href=\"#mc46ba87c4a\" y=\"119.500132\"/>\n     <use style=\"fill:#1f77b4;stroke:#1f77b4;\" x=\"335.91311\" xlink:href=\"#mc46ba87c4a\" y=\"123.806402\"/>\n     <use style=\"fill:#1f77b4;stroke:#1f77b4;\" x=\"353.000191\" xlink:href=\"#mc46ba87c4a\" y=\"139.260225\"/>\n     <use style=\"fill:#1f77b4;stroke:#1f77b4;\" x=\"370.087273\" xlink:href=\"#mc46ba87c4a\" y=\"119.670268\"/>\n    </g>\n   </g>\n   <g id=\"line2d_18\">\n    <defs>\n     <path d=\"M 0 1.5 \nC 0.397805 1.5 0.77937 1.341951 1.06066 1.06066 \nC 1.341951 0.77937 1.5 0.397805 1.5 0 \nC 1.5 -0.397805 1.341951 -0.77937 1.06066 -1.06066 \nC 0.77937 -1.341951 0.397805 -1.5 0 -1.5 \nC -0.397805 -1.5 -0.77937 -1.341951 -1.06066 -1.06066 \nC -1.341951 -0.77937 -1.5 -0.397805 -1.5 0 \nC -1.5 0.397805 -1.341951 0.77937 -1.06066 1.06066 \nC -0.77937 1.341951 -0.397805 1.5 0 1.5 \nz\n\" id=\"m1480acd26d\" style=\"stroke:#ff7f0e;\"/>\n    </defs>\n    <g clip-path=\"url(#pc9f90e78b1)\">\n     <use style=\"fill:#ff7f0e;stroke:#ff7f0e;\" x=\"45.432727\" xlink:href=\"#m1480acd26d\" y=\"166.734819\"/>\n     <use style=\"fill:#ff7f0e;stroke:#ff7f0e;\" x=\"62.519809\" xlink:href=\"#m1480acd26d\" y=\"59.937962\"/>\n     <use style=\"fill:#ff7f0e;stroke:#ff7f0e;\" x=\"79.60689\" xlink:href=\"#m1480acd26d\" y=\"60.060287\"/>\n     <use style=\"fill:#ff7f0e;stroke:#ff7f0e;\" x=\"96.693971\" xlink:href=\"#m1480acd26d\" y=\"121.198774\"/>\n     <use style=\"fill:#ff7f0e;stroke:#ff7f0e;\" x=\"113.781053\" xlink:href=\"#m1480acd26d\" y=\"119.599062\"/>\n     <use style=\"fill:#ff7f0e;stroke:#ff7f0e;\" x=\"130.868134\" xlink:href=\"#m1480acd26d\" y=\"88.958623\"/>\n     <use style=\"fill:#ff7f0e;stroke:#ff7f0e;\" x=\"147.955215\" xlink:href=\"#m1480acd26d\" y=\"257.367866\"/>\n     <use style=\"fill:#ff7f0e;stroke:#ff7f0e;\" x=\"165.042297\" xlink:href=\"#m1480acd26d\" y=\"209.831252\"/>\n     <use style=\"fill:#ff7f0e;stroke:#ff7f0e;\" x=\"182.129378\" xlink:href=\"#m1480acd26d\" y=\"144.984137\"/>\n     <use style=\"fill:#ff7f0e;stroke:#ff7f0e;\" x=\"199.216459\" xlink:href=\"#m1480acd26d\" y=\"180.80552\"/>\n     <use style=\"fill:#ff7f0e;stroke:#ff7f0e;\" x=\"216.303541\" xlink:href=\"#m1480acd26d\" y=\"132.872129\"/>\n     <use style=\"fill:#ff7f0e;stroke:#ff7f0e;\" x=\"233.390622\" xlink:href=\"#m1480acd26d\" y=\"80.893778\"/>\n     <use style=\"fill:#ff7f0e;stroke:#ff7f0e;\" x=\"250.477703\" xlink:href=\"#m1480acd26d\" y=\"19.296\"/>\n     <use style=\"fill:#ff7f0e;stroke:#ff7f0e;\" x=\"267.564785\" xlink:href=\"#m1480acd26d\" y=\"104.67133\"/>\n     <use style=\"fill:#ff7f0e;stroke:#ff7f0e;\" x=\"284.651866\" xlink:href=\"#m1480acd26d\" y=\"135.120491\"/>\n     <use style=\"fill:#ff7f0e;stroke:#ff7f0e;\" x=\"301.738947\" xlink:href=\"#m1480acd26d\" y=\"176.145852\"/>\n     <use style=\"fill:#ff7f0e;stroke:#ff7f0e;\" x=\"318.826029\" xlink:href=\"#m1480acd26d\" y=\"119.500132\"/>\n     <use style=\"fill:#ff7f0e;stroke:#ff7f0e;\" x=\"335.91311\" xlink:href=\"#m1480acd26d\" y=\"123.806402\"/>\n     <use style=\"fill:#ff7f0e;stroke:#ff7f0e;\" x=\"353.000191\" xlink:href=\"#m1480acd26d\" y=\"139.260225\"/>\n     <use style=\"fill:#ff7f0e;stroke:#ff7f0e;\" x=\"370.087273\" xlink:href=\"#m1480acd26d\" y=\"119.670268\"/>\n    </g>\n   </g>\n   <g id=\"line2d_19\">\n    <path clip-path=\"url(#pc9f90e78b1)\" d=\"M 45.432727 128.035745 \nL 62.519809 128.035745 \nL 79.60689 128.035745 \nL 96.693971 128.035745 \nL 113.781053 128.035745 \nL 130.868134 128.035745 \nL 147.955215 128.035745 \nL 165.042297 128.035745 \nL 182.129378 128.035745 \nL 199.216459 128.035745 \nL 216.303541 128.035745 \nL 233.390622 128.035745 \nL 250.477703 128.035745 \nL 267.564785 128.035745 \nL 284.651866 128.035745 \nL 301.738947 128.035745 \nL 318.826029 128.035745 \nL 335.91311 128.035745 \nL 353.000191 128.035745 \nL 370.087273 128.035745 \n\" style=\"fill:none;stroke:#2ca02c;stroke-linecap:square;stroke-width:1.5;\"/>\n   </g>\n   <g id=\"line2d_20\">\n    <path clip-path=\"url(#pc9f90e78b1)\" d=\"M 45.432727 161.165348 \nL 62.519809 77.570922 \nL 79.60689 58.832657 \nL 96.693971 81.875798 \nL 113.781053 124.413306 \nL 130.868134 166.921946 \nL 147.955215 194.92988 \nL 165.042297 200.776964 \nL 182.129378 184.281562 \nL 199.216459 152.02035 \nL 216.303541 115.200221 \nL 233.390622 86.374037 \nL 250.477703 75.524631 \nL 267.564785 86.314086 \nL 284.651866 113.567964 \nL 301.738947 143.336824 \nL 318.826029 157.149963 \nL 335.91311 142.349003 \nL 353.000191 110.661561 \nL 370.087273 127.447888 \n\" style=\"fill:none;stroke:#d62728;stroke-linecap:square;stroke-width:1.5;\"/>\n   </g>\n   <g id=\"line2d_21\">\n    <path clip-path=\"url(#pc9f90e78b1)\" d=\"M 45.432727 166.735039 \nL 62.519809 59.902066 \nL 79.60689 60.099654 \nL 96.693971 121.028862 \nL 113.781053 120.230213 \nL 130.868134 87.166064 \nL 147.955215 261.216 \nL 165.042297 203.176673 \nL 182.129378 154.248427 \nL 199.216459 170.235756 \nL 216.303541 142.703425 \nL 233.390622 73.330847 \nL 250.477703 23.978156 \nL 267.564785 102.265594 \nL 284.651866 136.036787 \nL 301.738947 175.798187 \nL 318.826029 119.52526 \nL 335.91311 123.750291 \nL 353.000191 139.235199 \nL 370.087273 119.688291 \n\" style=\"fill:none;stroke:#9467bd;stroke-linecap:square;stroke-width:1.5;\"/>\n   </g>\n   <g id=\"patch_3\">\n    <path d=\"M 29.2 273.312 \nL 29.2 7.2 \n\" style=\"fill:none;stroke:#000000;stroke-linecap:square;stroke-linejoin:miter;stroke-width:0.8;\"/>\n   </g>\n   <g id=\"patch_4\">\n    <path d=\"M 386.32 273.312 \nL 386.32 7.2 \n\" style=\"fill:none;stroke:#000000;stroke-linecap:square;stroke-linejoin:miter;stroke-width:0.8;\"/>\n   </g>\n   <g id=\"patch_5\">\n    <path d=\"M 29.2 273.312 \nL 386.32 273.312 \n\" style=\"fill:none;stroke:#000000;stroke-linecap:square;stroke-linejoin:miter;stroke-width:0.8;\"/>\n   </g>\n   <g id=\"patch_6\">\n    <path d=\"M 29.2 7.2 \nL 386.32 7.2 \n\" style=\"fill:none;stroke:#000000;stroke-linecap:square;stroke-linejoin:miter;stroke-width:0.8;\"/>\n   </g>\n  </g>\n </g>\n <defs>\n  <clipPath id=\"pc9f90e78b1\">\n   <rect height=\"266.112\" width=\"357.12\" x=\"29.2\" y=\"7.2\"/>\n  </clipPath>\n </defs>\n</svg>\n"
     },
     "metadata": {}
    }
   ],
   "metadata": {}
  },
  {
   "cell_type": "code",
   "execution_count": 16,
   "source": [
    "print(chisquare(data,np.polyval(m0,x))[0]/1.0)\n",
    "print(chisquare(data,np.polyval(m1,x))[0]/8.0)\n",
    "print(chisquare(data,np.polyval(m2,x))[0]/20.0)"
   ],
   "outputs": [
    {
     "output_type": "stream",
     "name": "stdout",
     "text": [
      "2.6681857224511263\n",
      "0.1427141311969165\n",
      "0.001141868669505076\n"
     ]
    }
   ],
   "metadata": {}
  },
  {
   "cell_type": "code",
   "execution_count": 20,
   "source": [
    "fig = plt.figure(figsize=(6.52437527778,4))\n",
    "gs = plt.GridSpec(nrows=1, ncols=1,hspace=.5,wspace=.3)\n",
    "\n",
    "ax = fig.add_subplot(gs[0,0])\n",
    "\n",
    "ax.plot(data,'.')\n",
    "ax.plot(np.polyval(m0,x),label='degree 0, $\\chi^2$ = 2.66')\n",
    "ax.plot(np.polyval(m1,x),label='degree 8, $\\chi^2$ = 0.14')\n",
    "ax.plot(np.polyval(m2,x),label='degree 20, $\\chi^2$ = 0.0011')\n",
    "\n",
    "ax.legend()\n",
    "plt.savefig('overfit_underfit.pdf')  "
   ],
   "outputs": [],
   "metadata": {}
  },
  {
   "cell_type": "code",
   "execution_count": null,
   "source": [],
   "outputs": [],
   "metadata": {}
  }
 ],
 "metadata": {
  "kernelspec": {
   "name": "python3",
   "display_name": "Python 3.8.8 64-bit ('base': conda)"
  },
  "language_info": {
   "codemirror_mode": {
    "name": "ipython",
    "version": 3
   },
   "file_extension": ".py",
   "mimetype": "text/x-python",
   "name": "python",
   "nbconvert_exporter": "python",
   "pygments_lexer": "ipython3",
   "version": "3.8.8"
  },
  "interpreter": {
   "hash": "ad1b009c0380e1478987093ff7c38676b28103d0252f56885a1e87b1524a8850"
  }
 },
 "nbformat": 4,
 "nbformat_minor": 5
}