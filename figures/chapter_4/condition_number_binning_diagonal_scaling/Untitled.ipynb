{
 "cells": [
  {
   "cell_type": "code",
   "execution_count": 1,
   "id": "2f6f0433-c088-4942-a3da-6121d754b31f",
   "metadata": {},
   "outputs": [],
   "source": [
    "import glob\n",
    "import scipy\n",
    "import random\n",
    "import numpy as np\n",
    "import matplotlib.pyplot as plt\n",
    "from scipy.stats import chisquare\n",
    "from natsort import natsorted\n",
    "from scipy.stats import describe\n",
    "from scipy.signal import filtfilt\n",
    "from sklearn.metrics import mean_squared_error\n",
    "from scipy.optimize import curve_fit\n",
    "import matplotlib\n",
    "from natsort import natsorted\n",
    "from scipy.sparse.linalg import svds"
   ]
  },
  {
   "cell_type": "code",
   "execution_count": 2,
   "id": "4dad9539-8dd9-4650-a2d9-e6e953b77557",
   "metadata": {},
   "outputs": [],
   "source": [
    "path = '/Users/patrick/Documents/phd/GitHub/tikhonov/'"
   ]
  },
  {
   "cell_type": "code",
   "execution_count": 59,
   "id": "1e170609-58c1-4c6b-b4da-5b2ddfff7c5b",
   "metadata": {},
   "outputs": [],
   "source": [
    "g4iso_files = natsorted(glob.glob(path+\"g4out/*KE_*_iso.csv\"))\n",
    "\n",
    "def cnum(xbinw,ebinw,num_components,precond):\n",
    "    R = []\n",
    "    D = []\n",
    "\n",
    "    for i in range(5,len(g4iso_files),ebinw): # 100 keV to 1 MeV energy range in steps of 100 keV\n",
    "        R.append(np.loadtxt(open(g4iso_files[i], \"r\"), delimiter=\",\",skiprows=9)[30:2000:xbinw,3]/5000000.0)\n",
    "    R = np.transpose(np.array(R))\n",
    "    \n",
    "    if (precond):\n",
    "        D = []\n",
    "        for j in range(0,R.shape[0]): # X-ray spectra from 0 to 600 keV\n",
    "            if (np.linalg.norm(R[j,:] > 0)):\n",
    "                D.append((1.0/(np.linalg.norm(R[j,:]))**.5)) # Diagonal scaling as a left pre-conditioner\n",
    "            else:\n",
    "                D.append(1)\n",
    "\n",
    "        DD = np.diag(D)\n",
    "    else:\n",
    "        DD = np.identity(R.shape[0])\n",
    "    \n",
    "    R = np.matmul(DD,R)\n",
    "    return(np.linalg.cond(R))"
   ]
  },
  {
   "cell_type": "code",
   "execution_count": 60,
   "id": "41ea3779-bd15-4c92-897e-2203fff87ac6",
   "metadata": {},
   "outputs": [],
   "source": [
    "def tsvd(num_components,precond):\n",
    "\n",
    "    X = np.arange(10, 100, 5)\n",
    "    Y = np.arange(1, 20, 1)\n",
    "    XX, YY = np.meshgrid(X, Y)\n",
    "    Z = []\n",
    "    zm=[]\n",
    "    for i in X:\n",
    "        print(i)\n",
    "        for j in Y:\n",
    "            zm.append(cnum(i,j,num_components,precond))\n",
    "        Z.append(zm)\n",
    "        zm=[]\n",
    "    ZZ = np.transpose(np.array(Z))\n",
    "    return([XX,YY,ZZ])"
   ]
  },
  {
   "cell_type": "code",
   "execution_count": 62,
   "id": "118c264c-bfab-4be9-9bc5-1581b3b6fecf",
   "metadata": {},
   "outputs": [
    {
     "name": "stdout",
     "output_type": "stream",
     "text": [
      "10\n",
      "15\n",
      "20\n",
      "25\n",
      "30\n",
      "35\n",
      "40\n",
      "45\n",
      "50\n",
      "55\n",
      "60\n",
      "65\n",
      "70\n",
      "75\n",
      "80\n",
      "85\n",
      "90\n",
      "95\n"
     ]
    }
   ],
   "source": [
    "cnum1 = tsvd(0,True)"
   ]
  },
  {
   "cell_type": "code",
   "execution_count": 63,
   "id": "441014b1-d6ed-4d2f-9e08-660b52231cdf",
   "metadata": {},
   "outputs": [
    {
     "name": "stdout",
     "output_type": "stream",
     "text": [
      "10\n",
      "15\n",
      "20\n",
      "25\n",
      "30\n",
      "35\n",
      "40\n",
      "45\n",
      "50\n",
      "55\n",
      "60\n",
      "65\n",
      "70\n",
      "75\n",
      "80\n",
      "85\n",
      "90\n",
      "95\n"
     ]
    }
   ],
   "source": [
    "cnum2 = tsvd(0,False)"
   ]
  },
  {
   "cell_type": "code",
   "execution_count": 86,
   "id": "e296a1e0-c363-4535-81c8-116b29c032f4",
   "metadata": {},
   "outputs": [
    {
     "data": {
      "text/plain": [
       "Text(0, 0.5, 'Condition Number')"
      ]
     },
     "execution_count": 86,
     "metadata": {},
     "output_type": "execute_result"
    },
    {
     "data": {
      "image/png": "[encoded data removed]",
      "text/plain": [
       "<Figure size 432x720 with 2 Axes>"
      ]
     },
     "metadata": {
      "needs_background": "light"
     },
     "output_type": "display_data"
    }
   ],
   "source": [
    "from mpl_toolkits.mplot3d import Axes3D\n",
    "import matplotlib.pyplot as plt\n",
    "import numpy as np\n",
    "from matplotlib import ticker, cm\n",
    "\n",
    "\n",
    "\n",
    "font = {'family' : 'normal',\n",
    "        'weight' : 'normal',\n",
    "        'size'   : 16}\n",
    "\n",
    "matplotlib.rc('font', **font)\n",
    "target = cnum1\n",
    "target2 = cnum2\n",
    "fig = plt.figure(figsize=(6,10))\n",
    "\n",
    "gs = plt.GridSpec(nrows=2, ncols=1,hspace=.5,wspace=.4)\n",
    "ax1 = fig.add_subplot(gs[0, 0])\n",
    "ax2 = fig.add_subplot(gs[1, 0])\n",
    "\n",
    "\n",
    "cs=ax2.contourf(target[0],target[1]*10,target[2],locator=ticker.LogLocator(),levels=np.logspace(2,10,30),cmap='gist_rainbow')\n",
    "cs2=ax1.contourf(target2[0],target2[1]*10,target2[2],locator=ticker.LogLocator(),levels=np.logspace(2,10,30),cmap='gist_rainbow')\n",
    "\n",
    "cbar=fig.colorbar(cs,ticks=np.logspace(1,100,100),cax=ax2)\n",
    "\n",
    "\n",
    "ax2.set_xlabel('X-ray Spectrum Bin Width (KeV)')\n",
    "ax2.set_ylabel('Electron Spectrum Bin Width (KeV)')\n",
    "\n",
    "\n",
    "cbar.ax.set_ylabel('Condition Number')\n"
   ]
  },
  {
   "cell_type": "code",
   "execution_count": null,
   "id": "299fb3ee-fc46-4534-bd0f-261e845bc251",
   "metadata": {},
   "outputs": [],
   "source": []
  }
 ],
 "metadata": {
  "kernelspec": {
   "display_name": "Python 3",
   "language": "python",
   "name": "python3"
  },
  "language_info": {
   "codemirror_mode": {
    "name": "ipython",
    "version": 3
   },
   "file_extension": ".py",
   "mimetype": "text/x-python",
   "name": "python",
   "nbconvert_exporter": "python",
   "pygments_lexer": "ipython3",
   "version": "3.8.8"
  }
 },
 "nbformat": 4,
 "nbformat_minor": 5
}
