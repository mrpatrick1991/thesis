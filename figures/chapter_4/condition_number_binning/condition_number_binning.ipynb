{
 "cells": [
  {
   "cell_type": "code",
   "execution_count": 9,
   "source": [
    "import glob\n",
    "import scipy\n",
    "import random\n",
    "import numpy as np\n",
    "import matplotlib.pyplot as plt\n",
    "from scipy.stats import chisquare\n",
    "from natsort import natsorted\n",
    "from scipy.stats import describe\n",
    "from scipy.signal import filtfilt\n",
    "from sklearn.metrics import mean_squared_error\n",
    "from scipy.optimize import curve_fit\n",
    "import matplotlib\n",
    "from natsort import natsorted\n",
    "\n",
    "plt.rcParams['mathtext.fontset'] = 'stix'\n",
    "plt.rcParams['font.family'] = 'STIXGeneral'\n",
    "plt.rc('font', size=12) \n",
    "%config InlineBackend.figure_format = 'svg'"
   ],
   "outputs": [],
   "metadata": {}
  },
  {
   "cell_type": "code",
   "execution_count": 2,
   "source": [
    "path = '/Users/patrick/Documents/phd/GitHub/tikhonov/'"
   ],
   "outputs": [],
   "metadata": {}
  },
  {
   "cell_type": "code",
   "execution_count": 3,
   "source": [
    "g4iso_files = natsorted(glob.glob(path+\"g4out/*KE_*_iso.csv\"))\n",
    "\n",
    "def cnum(xbinw,ebinw):\n",
    "    R = []\n",
    "    D = []\n",
    "\n",
    "    for i in range(5,len(g4iso_files),ebinw): # 100 keV to 1 MeV energy range in steps of 100 keV\n",
    "        R.append(np.loadtxt(open(g4iso_files[i], \"r\"), delimiter=\",\",skiprows=9)[30:2000:xbinw,3]/5000000.0)\n",
    "    R = np.transpose(np.array(R))\n",
    "    RR = R\n",
    "\n",
    "    return(np.linalg.cond(R))"
   ],
   "outputs": [],
   "metadata": {}
  },
  {
   "cell_type": "code",
   "execution_count": 4,
   "source": [
    "g4iso_files = natsorted(glob.glob(path+\"g4out/*KE_*_iso.csv\"))\n",
    "R = []\n",
    "D = []\n",
    "\n",
    "for i in range(5,len(g4iso_files)-101,1): # 100 keV to 1 MeV energy range in steps of 100 keV\n",
    "    R.append(np.loadtxt(open(g4iso_files[i], \"r\"), delimiter=\",\",skiprows=9)[30:400:1,3]/5000000.0)\n",
    "R = np.transpose(np.array(R))\n",
    "RR = R\n",
    "for j in range(0,370): # X-ray spectra from 0 to 600 keV\n",
    "    if (np.linalg.norm(R[j,:] > 0)):\n",
    "        D.append((1.0/np.linalg.norm(R[j,:]))) # Diagonal scaling as a left pre-conditioner\n",
    "    else:\n",
    "        D.append(1)\n",
    "\n",
    "DD = np.diag(D)\n",
    "RT = np.matmul(DD,R)\n",
    "\n",
    "S = []\n",
    "for k in range(0,R.shape[1]):\n",
    "    #S.append(1.0/(k+1)**2) # right pre-conditioner towards an exponential\n",
    "    S.append(1.0/np.sum(R[:,k]))\n",
    "    #S.append(alexa_model_exp[k])\n",
    "    #S.append(1)\n",
    "SS = np.diag(S)\n",
    "RS = np.matmul(RT,SS)\n",
    "\n",
    "print('response condition number: ' + str(np.linalg.cond(R)))\n",
    "print('response condition number after preconditioning: ' + str(np.linalg.cond(RS)))\n",
    "\n",
    "elow_keV = 50\n",
    "ehigh_keV = 1000\n",
    "xspace_estep_keV = 1\n",
    "espace_estep_keV = 10\n",
    "\n",
    "espace = np.linspace(elow_keV,ehigh_keV,R.shape[1])\n",
    "xspace = np.linspace(30,400,R.shape[0])"
   ],
   "outputs": [
    {
     "output_type": "stream",
     "name": "stdout",
     "text": [
      "response condition number: 37962.37567326069\n",
      "response condition number after preconditioning: 315.38372598636687\n"
     ]
    }
   ],
   "metadata": {}
  },
  {
   "cell_type": "code",
   "execution_count": 6,
   "source": [
    "X = np.arange(10, 100, 5)\n",
    "Y = np.arange(1, 20, 1)\n",
    "XX, YY = np.meshgrid(X, Y)\n",
    "Z = []\n",
    "zm=[]\n",
    "for i in X:\n",
    "    print(i)\n",
    "    for j in Y:\n",
    "        zm.append(cnum(i,j))\n",
    "    Z.append(zm)\n",
    "    zm=[]\n",
    "ZZ = np.transpose(np.array(Z))"
   ],
   "outputs": [
    {
     "output_type": "stream",
     "name": "stdout",
     "text": [
      "10\n",
      "15\n",
      "20\n",
      "25\n",
      "30\n",
      "35\n",
      "40\n",
      "45\n",
      "50\n",
      "55\n",
      "60\n",
      "65\n",
      "70\n",
      "75\n",
      "80\n",
      "85\n",
      "90\n",
      "95\n"
     ]
    }
   ],
   "metadata": {}
  },
  {
   "cell_type": "code",
   "execution_count": 13,
   "source": [
    "from mpl_toolkits.mplot3d import Axes3D\n",
    "import matplotlib.pyplot as plt\n",
    "import numpy as np\n",
    "from matplotlib import ticker, cm\n",
    "\n",
    "fig, ax = plt.subplots(figsize=(6.52437527778,6))\n",
    "cs=ax.contourf(XX,YY*10,ZZ,locator=ticker.LogLocator(),levels=np.logspace(2,20,30),cmap='gist_rainbow')\n",
    "\n",
    "cbar=fig.colorbar(cs,ticks=np.logspace(2,20,10))\n",
    "\n",
    "ax.set_xlabel('X-ray Spectrum Bin Width (KeV)')\n",
    "ax.set_ylabel('Electron Spectrum Bin Width (KeV)')\n",
    "cbar.ax.set_ylabel('Condition Number')\n",
    "plt.savefig('condition_number_binning.pdf')  \n"
   ],
   "outputs": [],
   "metadata": {}
  },
  {
   "cell_type": "code",
   "execution_count": null,
   "source": [],
   "outputs": [],
   "metadata": {}
  }
 ],
 "metadata": {
  "kernelspec": {
   "name": "python3",
   "display_name": "Python 3.8.8 64-bit ('base': conda)"
  },
  "language_info": {
   "codemirror_mode": {
    "name": "ipython",
    "version": 3
   },
   "file_extension": ".py",
   "mimetype": "text/x-python",
   "name": "python",
   "nbconvert_exporter": "python",
   "pygments_lexer": "ipython3",
   "version": "3.8.8"
  },
  "interpreter": {
   "hash": "ad1b009c0380e1478987093ff7c38676b28103d0252f56885a1e87b1524a8850"
  }
 },
 "nbformat": 4,
 "nbformat_minor": 5
}