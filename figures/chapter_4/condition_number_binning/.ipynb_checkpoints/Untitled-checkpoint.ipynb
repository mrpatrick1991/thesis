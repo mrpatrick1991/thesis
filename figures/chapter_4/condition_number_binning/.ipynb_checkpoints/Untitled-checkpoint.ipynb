{
 "cells": [
  {
   "cell_type": "code",
   "execution_count": 1,
   "id": "electronic-village",
   "metadata": {},
   "outputs": [],
   "source": [
    "import glob\n",
    "import scipy\n",
    "import random\n",
    "import numpy as np\n",
    "import matplotlib.pyplot as plt\n",
    "from scipy.stats import chisquare\n",
    "from natsort import natsorted\n",
    "from scipy.stats import describe\n",
    "from scipy.signal import filtfilt\n",
    "from sklearn.metrics import mean_squared_error\n",
    "from scipy.optimize import curve_fit\n",
    "import matplotlib"
   ]
  },
  {
   "cell_type": "code",
   "execution_count": 2,
   "id": "extraordinary-impossible",
   "metadata": {},
   "outputs": [],
   "source": [
    "path = '/Users/patrick/Documents/phd/GitHub/tikhonov/'"
   ]
  },
  {
   "cell_type": "code",
   "execution_count": 173,
   "id": "premium-shannon",
   "metadata": {},
   "outputs": [],
   "source": [
    "g4iso_files = natsorted(glob.glob(path+\"g4out/*KE_*_iso.csv\"))\n",
    "\n",
    "def cnum(xbinw,ebinw):\n",
    "    R = []\n",
    "    D = []\n",
    "\n",
    "    for i in range(5,len(g4iso_files)-101,ebinw): # 100 keV to 1 MeV energy range in steps of 100 keV\n",
    "        R.append(np.loadtxt(open(g4iso_files[i], \"r\"), delimiter=\",\",skiprows=9)[30:2000:xbinw,3]/5000000.0)\n",
    "    R = np.transpose(np.array(R))\n",
    "    RR = R\n",
    "\n",
    "    return(np.linalg.cond(R))"
   ]
  },
  {
   "cell_type": "code",
   "execution_count": 174,
   "id": "pointed-arthritis",
   "metadata": {},
   "outputs": [
    {
     "data": {
      "text/plain": [
       "37607.06428910745"
      ]
     },
     "execution_count": 174,
     "metadata": {},
     "output_type": "execute_result"
    }
   ],
   "source": [
    "cnum(1,1)"
   ]
  },
  {
   "cell_type": "code",
   "execution_count": 185,
   "id": "acknowledged-anxiety",
   "metadata": {},
   "outputs": [],
   "source": [
    "c=[]\n",
    "for i in range(1,10,1):\n",
    "    c.append(cnum(3,i))"
   ]
  },
  {
   "cell_type": "code",
   "execution_count": 186,
   "id": "forty-mercury",
   "metadata": {},
   "outputs": [
    {
     "data": {
      "text/plain": [
       "[<matplotlib.lines.Line2D at 0x7fba48f067c0>]"
      ]
     },
     "execution_count": 186,
     "metadata": {},
     "output_type": "execute_result"
    },
    {
     "data": {
      "image/png": "[encoded data removed]",
      "text/plain": [
       "<Figure size 432x288 with 1 Axes>"
      ]
     },
     "metadata": {
      "needs_background": "light"
     },
     "output_type": "display_data"
    }
   ],
   "source": [
    "plt.plot(np.array(range(1,10,1))*10,c)"
   ]
  },
  {
   "cell_type": "code",
   "execution_count": 180,
   "id": "fresh-audience",
   "metadata": {},
   "outputs": [],
   "source": [
    "c=[]\n",
    "for i in range(1,9,1):\n",
    "    c.append(cnum(i,1))"
   ]
  },
  {
   "cell_type": "code",
   "execution_count": 182,
   "id": "arctic-outline",
   "metadata": {},
   "outputs": [
    {
     "data": {
      "text/plain": [
       "[<matplotlib.lines.Line2D at 0x7fba8bd03670>]"
      ]
     },
     "execution_count": 182,
     "metadata": {},
     "output_type": "execute_result"
    },
    {
     "data": {
      "image/png": "[encoded data removed]",
      "text/plain": [
       "<Figure size 432x288 with 1 Axes>"
      ]
     },
     "metadata": {
      "needs_background": "light"
     },
     "output_type": "display_data"
    }
   ],
   "source": [
    "plt.semilogy(np.array(range(1,9,1))*10,c)"
   ]
  },
  {
   "cell_type": "code",
   "execution_count": 179,
   "id": "about-nigeria",
   "metadata": {},
   "outputs": [
    {
     "data": {
      "text/plain": [
       "[37607.06428910745,\n",
       " 90155.46135327414,\n",
       " 288778.04744248075,\n",
       " 851477.5023115297,\n",
       " 2616213.032268992,\n",
       " 19532607.008165848,\n",
       " 495109095.4554832,\n",
       " 40306599084.9207,\n",
       " 7.323114552248874e+20]"
      ]
     },
     "execution_count": 179,
     "metadata": {},
     "output_type": "execute_result"
    }
   ],
   "source": [
    "c"
   ]
  },
  {
   "cell_type": "code",
   "execution_count": 138,
   "id": "bronze-certificate",
   "metadata": {},
   "outputs": [
    {
     "name": "stdout",
     "output_type": "stream",
     "text": [
      "[4.06838776e+03 1.00637555e+03 2.54687699e+02 4.27534042e+02\n",
      " 6.29843165e+02 6.58489942e+03 8.19390615e+02 1.89801954e+02\n",
      " 3.17725087e+02 4.68322042e+02 3.63675847e+03 8.34433935e+02\n",
      " 1.54878664e+02 2.57068205e+02 3.80806715e+02 2.49822989e+04\n",
      " 1.17323193e+03 1.45300138e+02 2.31789531e+02 3.33625512e+02\n",
      " 4.20735265e+04 1.22241099e+03 1.47818533e+02 2.26418725e+02\n",
      " 3.18720638e+02 1.63446063e+05 1.45849191e+03 1.62441005e+02\n",
      " 2.36235091e+02 3.21008277e+02 8.31468690e+06 9.61830846e+03\n",
      " 1.81394202e+02 2.58477709e+02 3.39674501e+02 1.30983039e+20\n",
      " 9.78033528e+03 2.14501968e+02 2.87961138e+02 3.74265004e+02\n",
      "            inf 2.00428904e+04 2.57562261e+02 3.36371845e+02\n",
      " 4.13155103e+02            inf 8.02465573e+03 3.01577499e+02\n",
      " 3.84775624e+02 4.62242093e+02]\n"
     ]
    }
   ],
   "source": [
    "import matplotlib.pyplot as plt\n",
    "from matplotlib import cm\n",
    "from matplotlib.ticker import LinearLocator\n",
    "import numpy as np\n",
    "\n",
    "\n",
    "X = np.arange(10, 110, 10)\n",
    "Y = np.arange(10, 100, 20)\n",
    "XX, YY = np.meshgrid(X, Y)\n",
    "Z = []\n",
    "zm=[]\n",
    "XXX = []\n",
    "YYY = []\n",
    "\n",
    "for i in X:\n",
    "    for j in Y:\n",
    "        Z.append(cnum(i,j))\n",
    "        XXX.append(i)\n",
    "        YYY.append(j)\n",
    "        \n",
    "Z = np.array(Z)\n",
    "XXX = np.array(XXX)\n",
    "YYY = np.array(YYY)\n",
    "\n",
    "print(Z)\n"
   ]
  },
  {
   "cell_type": "code",
   "execution_count": null,
   "id": "transparent-charlotte",
   "metadata": {},
   "outputs": [],
   "source": []
  },
  {
   "cell_type": "code",
   "execution_count": 140,
   "id": "sitting-soldier",
   "metadata": {},
   "outputs": [
    {
     "data": {
      "text/plain": [
       "(50,)"
      ]
     },
     "execution_count": 140,
     "metadata": {},
     "output_type": "execute_result"
    }
   ],
   "source": [
    "YYY.shape"
   ]
  },
  {
   "cell_type": "code",
   "execution_count": 128,
   "id": "modern-generic",
   "metadata": {},
   "outputs": [
    {
     "data": {
      "text/plain": [
       "(4,)"
      ]
     },
     "execution_count": 128,
     "metadata": {},
     "output_type": "execute_result"
    }
   ],
   "source": [
    "Y.shape"
   ]
  },
  {
   "cell_type": "code",
   "execution_count": 142,
   "id": "cheap-grade",
   "metadata": {},
   "outputs": [
    {
     "data": {
      "text/plain": [
       "(10,)"
      ]
     },
     "execution_count": 142,
     "metadata": {},
     "output_type": "execute_result"
    }
   ],
   "source": [
    "X.shape"
   ]
  },
  {
   "cell_type": "code",
   "execution_count": 143,
   "id": "welcome-hollywood",
   "metadata": {},
   "outputs": [
    {
     "data": {
      "text/plain": [
       "(50,)"
      ]
     },
     "execution_count": 143,
     "metadata": {},
     "output_type": "execute_result"
    }
   ],
   "source": [
    "Z.shape"
   ]
  },
  {
   "cell_type": "code",
   "execution_count": 144,
   "id": "ordered-objective",
   "metadata": {},
   "outputs": [
    {
     "data": {
      "text/plain": [
       "<mpl_toolkits.mplot3d.art3d.Line3DCollection at 0x7fba30039be0>"
      ]
     },
     "execution_count": 144,
     "metadata": {},
     "output_type": "execute_result"
    },
    {
     "data": {
      "image/png": "[encoded data removed]",
      "text/plain": [
       "<Figure size 432x288 with 1 Axes>"
      ]
     },
     "metadata": {
      "needs_background": "light"
     },
     "output_type": "display_data"
    }
   ],
   "source": [
    "fig, ax = plt.subplots(subplot_kw={\"projection\": \"3d\"})\n",
    "x = np.reshape(XXX, (10, 5))\n",
    "y = np.reshape(YYY, (10, 5))\n",
    "z = np.reshape(Z, (10, 5))\n",
    "\n",
    "\n",
    "ax.plot_wireframe(x,y,z, rstride=2, cstride=2)"
   ]
  }
 ],
 "metadata": {
  "kernelspec": {
   "display_name": "Python 3",
   "language": "python",
   "name": "python3"
  },
  "language_info": {
   "codemirror_mode": {
    "name": "ipython",
    "version": 3
   },
   "file_extension": ".py",
   "mimetype": "text/x-python",
   "name": "python",
   "nbconvert_exporter": "python",
   "pygments_lexer": "ipython3",
   "version": "3.9.1"
  }
 },
 "nbformat": 4,
 "nbformat_minor": 5
}
