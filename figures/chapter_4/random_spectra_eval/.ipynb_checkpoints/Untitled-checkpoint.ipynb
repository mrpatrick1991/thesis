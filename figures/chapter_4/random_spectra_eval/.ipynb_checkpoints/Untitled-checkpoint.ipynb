{
 "cells": [
  {
   "cell_type": "code",
   "execution_count": 1,
   "id": "ec656d66-085c-4e8e-a81f-736396aa4811",
   "metadata": {},
   "outputs": [],
   "source": [
    "import glob\n",
    "import scipy\n",
    "import random\n",
    "import numpy as np\n",
    "import matplotlib.pyplot as plt\n",
    "from scipy.stats import chisquare\n",
    "from natsort import natsorted\n",
    "from scipy.stats import describe\n",
    "from scipy.signal import filtfilt"
   ]
  },
  {
   "cell_type": "code",
   "execution_count": 2,
   "id": "4f392efa-465f-455f-af35-fc59377b5f78",
   "metadata": {},
   "outputs": [],
   "source": [
    "path = '/Users/patrick/Documents/phd/GitHub/tikhonov/'"
   ]
  },
  {
   "cell_type": "code",
   "execution_count": 3,
   "id": "bffc83c0-3614-4b14-945c-ec29bb8a9680",
   "metadata": {},
   "outputs": [
    {
     "name": "stdout",
     "output_type": "stream",
     "text": [
      "response condition number: 15993.388434455901\n",
      "response condition number after preconditioning: 173.12830996456856\n"
     ]
    }
   ],
   "source": [
    "g4iso_files = natsorted(glob.glob(path+\"g4out/*KE_*_iso.csv\"))\n",
    "R = []\n",
    "D = []\n",
    "\n",
    "for i in range(10,len(g4iso_files)-1,5): # 100 keV to 1 MeV energy range in steps of 100 keV\n",
    "    R.append(np.loadtxt(open(g4iso_files[i], \"r\"), delimiter=\",\",skiprows=9)[30:500:1,3]/5000000.0)\n",
    "R = np.transpose(np.array(R))\n",
    "RR = R\n",
    "for j in range(0,470): # X-ray spectra from 0 to 600 keV\n",
    "    if (np.linalg.norm(R[j,:] > 0)):\n",
    "        D.append((1.0/np.linalg.norm(R[j,:]))) # Diagonal scaling as a left pre-conditioner\n",
    "    else:\n",
    "        D.append(1)\n",
    "\n",
    "DD = np.diag(D)\n",
    "RT = np.matmul(DD,R)\n",
    "\n",
    "S = []\n",
    "for k in range(0,R.shape[1]):\n",
    "    #S.append(1.0/(k+1)**2) # right pre-conditioner towards an exponential\n",
    "    S.append(1.0/np.sum(R[:,k]))\n",
    "    #S.append(alexa_model_exp[k])\n",
    "    #S.append(1)\n",
    "SS = np.diag(S)\n",
    "RS = np.matmul(RT,SS)\n",
    "\n",
    "print('response condition number: ' + str(np.linalg.cond(R)))\n",
    "print('response condition number after preconditioning: ' + str(np.linalg.cond(RS)))\n",
    "\n",
    "elow_keV = 70\n",
    "ehigh_keV = 1000\n",
    "xspace_estep_keV = 1\n",
    "espace_estep_keV = 50\n",
    "\n",
    "espace = np.linspace(elow_keV,ehigh_keV,R.shape[1])\n",
    "xspace = np.linspace(30,500,R.shape[0])"
   ]
  },
  {
   "cell_type": "code",
   "execution_count": 4,
   "id": "c250fb45-d905-4c2d-ab1e-5beba54c9b15",
   "metadata": {},
   "outputs": [],
   "source": [
    "# generate synthetic data \n",
    "\n",
    "e0 = np.linspace(30, 299, R.shape[0])\n",
    "e1 = np.linspace(100, ehigh_keV, R.shape[1])\n",
    "\n",
    "def bg(total):\n",
    "    beam = np.full(len(espace), 0)\n",
    "    signal = np.full(len(xspace), 0)\n",
    "    for e in range(0, e0.shape[0]): # normally distributed noise\n",
    "        signal[e] = abs(signal[e] + np.random.normal(signal[e],np.sqrt(total/len(espace))))\n",
    "    return((signal,beam))\n",
    "\n",
    "def ex(fold, elow, ehigh, total):\n",
    "    beam = np.exp(-e1/fold)\n",
    "    beam[0:(np.abs(e1 - elow)).argmin()] = 0.0\n",
    "    beam[(np.abs(e1 - ehigh)).argmin():-1] = 0.0\n",
    "    integral = np.trapz(beam,e1)\n",
    "    beam = beam*total/integral # beam should integrate to total e-/cm^2/s\n",
    "    \n",
    "    signal = np.matmul(R,beam)\n",
    "    \n",
    "    for e in range(0, e0.shape[0]):\n",
    "        signal[e] = abs(signal[e] + np.random.normal(signal[e],np.sqrt(signal[e])))\n",
    "        \n",
    "    return(signal,beam)\n",
    "\n",
    "def gauss(mu, sig, elow, ehigh, total):\n",
    "    beam = total*np.exp(-np.power(e1 - mu, 2.) / (2 * np.power(sig, 2.)))\n",
    "    beam[0:(np.abs(e1 - elow)).argmin()] = 0.0 # low and high energy cutoffs\n",
    "    beam[(np.abs(e1 - ehigh)).argmin():-1] = 0.0\n",
    "    integral = np.trapz(beam, x=e1)\n",
    "    beam = beam*total/integral # beam should integrate to total e-/cm^2/s\n",
    "    signal = np.matmul(R,beam)\n",
    "    for e in range(0, e0.shape[0]): \n",
    "        signal[e] = np.random.normal(signal[e], scale=np.sqrt(signal[e]))\n",
    "    return(signal,beam)\n",
    "\n",
    "def mono(e, total):\n",
    "    beam = np.full(e1.shape[0], 0.0)\n",
    "    beam[(np.abs(e1 - e)).argmin()] = total\n",
    "    signal = np.matmul(R,beam) # beam should integrate to total e-/cm^2/s\n",
    "    for e in range(0, e0.shape[0]): \n",
    "        signal[e] = np.random.normal(signal[e], scale=np.sqrt(signal[e]))\n",
    "    return((signal,beam))\n"
   ]
  },
  {
   "cell_type": "code",
   "execution_count": 5,
   "id": "c7d9e61c-1e01-4ee9-9266-6db40ebe671b",
   "metadata": {},
   "outputs": [],
   "source": [
    "L0 = np.identity(R.shape[1])       # zeroth-order\n",
    "\n",
    "L1 = np.copy(L0) \n",
    "for i in range(0, R.shape[1] - 1): # first-order\n",
    "    L1[i,i+1] = -1.0\n",
    "\n",
    "L2 = np.copy(L0)\n",
    "for i in range(1, R.shape[1]-1): # second-order\n",
    "    L2[i,i] = -2.0\n",
    "    L2[i,i+1] = 1.0 \n",
    "    L2[i,i-1] = 1.0\n",
    "L2[-1,-2] = 0\n",
    "L2[0,0] = 1\n",
    "L2[0,1] = 0\n",
    "\n",
    "def tk(R, op, kappa, xs, posonly):\n",
    "    C = np.matmul(np.transpose(R),R) + (kappa**2)*np.matmul(np.transpose(op),op)\n",
    "    D = np.matmul(np.transpose(R), xs)\n",
    "    if (posonly):\n",
    "        sol = scipy.optimize.nnls(C,D,maxiter=1e10)[0]\n",
    "    else:\n",
    "        sol = np.linalg.solve(C,D)\n",
    "    error = (np.linalg.norm(np.matmul(R,sol) - xs))\n",
    "    bias = np.linalg.norm((1)*np.matmul(op,sol))\n",
    "    return(sol/2.0,error,bias)\n",
    "\n",
    "def tks(R, op, kappa, xs, posonly):\n",
    "    eq = lambda e: np.linalg.norm(np.matmul(R,e) - xs) + kappa*np.linalg.norm(np.matmul(op,e))\n",
    "    bnds=scipy.optimize.Bounds(np.full(R.shape[1],0), np.full(R.shape[1],np.inf))\n",
    "    sol = scipy.optimize.minimize(eq,tk(R,op,kappa,xs,True)[0],options={\"maxiter\":1e40},bounds=bnds)\n",
    "    return(sol.x)"
   ]
  },
  {
   "cell_type": "code",
   "execution_count": 6,
   "id": "15995a87-6345-42ba-ac97-a45dd626a23d",
   "metadata": {},
   "outputs": [],
   "source": [
    "# cross validation\n",
    "\n",
    "def cv(R, op, kappas, xs, posonly):\n",
    "    err = []\n",
    "    for kappa in kappas:\n",
    "        e = 0\n",
    "        for i in range(0, len(xs) - 1):\n",
    "            RST = np.delete(RS,i,0)\n",
    "            xst = np.delete(xs,i,0) # delete one X-ray data point and solve the reduced problem\n",
    "            sol = np.matmul(tk(RST, op, kappa, xst, posonly)[0],SS)\n",
    "            e += (np.matmul(RT,sol)[i] - xs[i])**2\n",
    "        err.append(e)\n",
    "    return(err)"
   ]
  },
  {
   "cell_type": "code",
   "execution_count": 7,
   "id": "c198b381-15ac-4c88-a87c-5c585bfbe3c8",
   "metadata": {},
   "outputs": [],
   "source": [
    "def nmse(actual,predicted): # normalized mean-squared error \n",
    "    error = actual - predicted\n",
    "    return(np.dot(np.transpose(error),error)/np.dot(np.transpose(actual),actual))"
   ]
  },
  {
   "cell_type": "code",
   "execution_count": 8,
   "id": "822fd955-2294-4a9b-8bac-35b4cedacb17",
   "metadata": {},
   "outputs": [],
   "source": [
    "# generate a set of training data that spans many test cases\n",
    "# we expect generally smooth functions over our energy range, but have no prior information on the shape, or on the total\n",
    "# fluxes.\n",
    "\n",
    "def make_random_spectrum(omega,total):\n",
    "    fold = random.randrange(1,30,1)\n",
    "    omega = random.randrange(0,10,1)/10.0\n",
    "    weights = np.exp(-np.array(range(0,espace.shape[0]))/fold)\n",
    "    bins = []\n",
    "    for i in range(0,espace.shape[0]):\n",
    "        bins.append(random.randrange(0,1000,1)*weights[i])\n",
    "    b, a = scipy.signal.butter(1, omega, 'low')\n",
    "    o = filtfilt(b, a, bins ,axis=0)\n",
    "    \n",
    "    integral = np.trapz(o,e1)\n",
    "    beam = o*total/integral # beam should integrate to total e-/cm^2/s\n",
    "    \n",
    "    signal = np.matmul(R,beam)\n",
    "    \n",
    "    for e in range(0, e0.shape[0]): # add normally distributed noise\n",
    "            signal[e] = abs(signal[e] + np.random.normal(signal[e],np.sqrt(signal[e])))\n",
    "        \n",
    "    return((signal,beam))"
   ]
  },
  {
   "cell_type": "code",
   "execution_count": 26,
   "id": "c52adacc-0fdb-4b9b-aae1-eb6808b7cfd9",
   "metadata": {},
   "outputs": [
    {
     "name": "stdout",
     "output_type": "stream",
     "text": [
      "Normalized mean squared error: 0.2706801267578014\n",
      "Kappa estimated: 75.43120063354623\n"
     ]
    },
    {
     "data": {
      "text/plain": [
       "<matplotlib.lines.Line2D at 0x7fe1c8e0f4f0>"
      ]
     },
     "execution_count": 26,
     "metadata": {},
     "output_type": "execute_result"
    },
    {
     "data": {
      "image/png": "[encoded data removed]",
      "text/plain": [
       "<Figure size 864x432 with 3 Axes>"
      ]
     },
     "metadata": {
      "needs_background": "light"
     },
     "output_type": "display_data"
    }
   ],
   "source": [
    "beam = make_random_spectrum(.8,1e7)\n",
    "beamx = np.matmul(np.diag(D),beam[0])\n",
    "\n",
    "fig = plt.figure(figsize=(12,6))\n",
    "gs = plt.GridSpec(nrows=2, ncols=2,hspace=.5,wspace=.3)\n",
    "\n",
    "ax1 = fig.add_subplot(gs[1,0])\n",
    "ax2 = fig.add_subplot(gs[0,0])\n",
    "ax3 = fig.add_subplot(gs[:,1])\n",
    "\n",
    "ax1.set_title('X-ray Spectrum')\n",
    "ax1.set_ylabel('counts/s/keV')\n",
    "ax2.set_ylabel('$\\mathrm{e^-}/\\mathrm{cm}^2/\\mathrm{s}/\\mathrm{keV}$')\n",
    "ax2.set_title('Electron Spectrum')\n",
    "ax3.set_title('LOOCV Squared Residuals vs. $\\kappa$\\n')\n",
    "ax3.set_xlabel('$\\kappa$')\n",
    "ax3.set_ylabel('Squared Error')\n",
    "\n",
    "\n",
    "ss = np.logspace(-2,3,50)\n",
    "e = cv(R, L2, ss, beamx, True)\n",
    "sol = np.matmul(tk(RS, L2, ss[np.argmin(e)], beamx, True)[0],SS)\n",
    "ax1.plot(xspace,beam[0])\n",
    "ax2.plot(espace, beam[1],label='assumed')\n",
    "ax2.plot(espace[1:-1], sol[1:-1],label='model',color='lightgreen')\n",
    "ax3.semilogx(ss,e)\n",
    "print('Normalized mean squared error: ' + str(nmse(beam[1][1:-1],sol[1:-1])))\n",
    "print('Kappa estimated: ' + str(ss[np.argmin(e)]))\n",
    "    \n",
    "ax3.axvline(x=ss[np.argmin(e)],color='grey',linestyle='dashed')\n"
   ]
  },
  {
   "cell_type": "code",
   "execution_count": 179,
   "id": "0d16dd70-f069-4924-a31b-3ed720d60e3e",
   "metadata": {},
   "outputs": [
    {
     "name": "stdout",
     "output_type": "stream",
     "text": [
      "iteration: 999\n"
     ]
    }
   ],
   "source": [
    "from IPython.display import clear_output\n",
    "\n",
    "nmses = []\n",
    "kappas = []\n",
    "\n",
    "for i in range(1,1000):\n",
    "    try:\n",
    "        clear_output(wait=True)\n",
    "        print('iteration: ' + str(i) )\n",
    "        \n",
    "        beam = make_random_spectrum(.8,1e7)\n",
    "        beamx = np.matmul(np.diag(D),beam[0])\n",
    "        ss = np.logspace(-5,5,20)\n",
    "        e = cv(R, L2, ss, beamx, True)\n",
    "        sol = np.matmul(tk(RS, L2, ss[np.argmin(e)], beamx, True)[0],SS)\n",
    "        nmses.append(nmse(beam[1],sol))\n",
    "        kappas.append(ss[np.argmin(e)])\n",
    "    except ValueError as e:\n",
    "        continue"
   ]
  },
  {
   "cell_type": "code",
   "execution_count": 184,
   "id": "25ddbd81-6d56-49cd-84c0-2e1afde9c0c2",
   "metadata": {},
   "outputs": [
    {
     "data": {
      "text/plain": [
       "(array([483., 154.,  82.,  54.,  28.,  28.,  13.,  13.,  13.,   5.,   4.,\n",
       "          7.,   5.,   7.,   6.,   3.,   6.,   5.,   4.,   2.,   1.,   2.,\n",
       "          1.,   1.,   5.,   0.,   3.,   2.,   1.,   0.,   2.,   1.,   1.,\n",
       "          0.,   2.,   1.,   0.,   2.,   0.,   0.,   0.,   0.,   2.,   1.,\n",
       "          1.,   1.,   2.,   0.,   0.,   0.,   0.,   0.,   1.,   0.,   0.,\n",
       "          0.,   0.,   1.,   1.,   1.,   1.,   0.,   0.,   0.,   0.,   0.,\n",
       "          0.,   1.,   0.,   2.,   1.,   0.,   0.,   0.,   1.,   0.,   1.,\n",
       "          0.,   0.,   0.,   0.,   0.,   0.,   0.,   1.,   0.,   0.,   0.,\n",
       "          0.,   0.,   0.,   1.,   0.,   0.,   0.,   0.,   0.,   0.,   1.,\n",
       "          0.,   0.,   0.,   0.,   0.,   0.,   0.,   0.,   0.,   0.,   0.,\n",
       "          0.,   0.,   0.,   0.,   0.,   0.,   0.,   0.,   0.,   0.,   0.,\n",
       "          0.,   0.,   0.,   0.,   0.,   0.,   0.,   0.,   0.,   0.,   0.,\n",
       "          0.,   0.,   0.,   0.,   0.,   0.,   0.,   0.,   0.,   0.,   0.,\n",
       "          0.,   0.,   0.,   0.,   0.,   0.,   1.]),\n",
       " array([1.01341284e-02, 1.86173033e+00, 3.71332653e+00, 5.56492273e+00,\n",
       "        7.41651893e+00, 9.26811514e+00, 1.11197113e+01, 1.29713075e+01,\n",
       "        1.48229037e+01, 1.66744999e+01, 1.85260961e+01, 2.03776923e+01,\n",
       "        2.22292885e+01, 2.40808847e+01, 2.59324810e+01, 2.77840772e+01,\n",
       "        2.96356734e+01, 3.14872696e+01, 3.33388658e+01, 3.51904620e+01,\n",
       "        3.70420582e+01, 3.88936544e+01, 4.07452506e+01, 4.25968468e+01,\n",
       "        4.44484430e+01, 4.63000392e+01, 4.81516354e+01, 5.00032316e+01,\n",
       "        5.18548278e+01, 5.37064240e+01, 5.55580202e+01, 5.74096164e+01,\n",
       "        5.92612126e+01, 6.11128088e+01, 6.29644050e+01, 6.48160012e+01,\n",
       "        6.66675974e+01, 6.85191936e+01, 7.03707898e+01, 7.22223860e+01,\n",
       "        7.40739822e+01, 7.59255784e+01, 7.77771746e+01, 7.96287708e+01,\n",
       "        8.14803670e+01, 8.33319632e+01, 8.51835594e+01, 8.70351556e+01,\n",
       "        8.88867518e+01, 9.07383480e+01, 9.25899442e+01, 9.44415404e+01,\n",
       "        9.62931366e+01, 9.81447328e+01, 9.99963290e+01, 1.01847925e+02,\n",
       "        1.03699521e+02, 1.05551118e+02, 1.07402714e+02, 1.09254310e+02,\n",
       "        1.11105906e+02, 1.12957502e+02, 1.14809099e+02, 1.16660695e+02,\n",
       "        1.18512291e+02, 1.20363887e+02, 1.22215483e+02, 1.24067080e+02,\n",
       "        1.25918676e+02, 1.27770272e+02, 1.29621868e+02, 1.31473464e+02,\n",
       "        1.33325061e+02, 1.35176657e+02, 1.37028253e+02, 1.38879849e+02,\n",
       "        1.40731445e+02, 1.42583042e+02, 1.44434638e+02, 1.46286234e+02,\n",
       "        1.48137830e+02, 1.49989426e+02, 1.51841023e+02, 1.53692619e+02,\n",
       "        1.55544215e+02, 1.57395811e+02, 1.59247407e+02, 1.61099004e+02,\n",
       "        1.62950600e+02, 1.64802196e+02, 1.66653792e+02, 1.68505388e+02,\n",
       "        1.70356985e+02, 1.72208581e+02, 1.74060177e+02, 1.75911773e+02,\n",
       "        1.77763369e+02, 1.79614966e+02, 1.81466562e+02, 1.83318158e+02,\n",
       "        1.85169754e+02, 1.87021350e+02, 1.88872947e+02, 1.90724543e+02,\n",
       "        1.92576139e+02, 1.94427735e+02, 1.96279331e+02, 1.98130928e+02,\n",
       "        1.99982524e+02, 2.01834120e+02, 2.03685716e+02, 2.05537313e+02,\n",
       "        2.07388909e+02, 2.09240505e+02, 2.11092101e+02, 2.12943697e+02,\n",
       "        2.14795294e+02, 2.16646890e+02, 2.18498486e+02, 2.20350082e+02,\n",
       "        2.22201678e+02, 2.24053275e+02, 2.25904871e+02, 2.27756467e+02,\n",
       "        2.29608063e+02, 2.31459659e+02, 2.33311256e+02, 2.35162852e+02,\n",
       "        2.37014448e+02, 2.38866044e+02, 2.40717640e+02, 2.42569237e+02,\n",
       "        2.44420833e+02, 2.46272429e+02, 2.48124025e+02, 2.49975621e+02,\n",
       "        2.51827218e+02, 2.53678814e+02, 2.55530410e+02, 2.57382006e+02,\n",
       "        2.59233602e+02, 2.61085199e+02, 2.62936795e+02, 2.64788391e+02,\n",
       "        2.66639987e+02, 2.68491583e+02, 2.70343180e+02, 2.72194776e+02,\n",
       "        2.74046372e+02, 2.75897968e+02, 2.77749564e+02]),\n",
       " <BarContainer object of 150 artists>)"
      ]
     },
     "execution_count": 184,
     "metadata": {},
     "output_type": "execute_result"
    },
    {
     "data": {
      "image/png": "[encoded data removed]",
      "text/plain": [
       "<Figure size 432x288 with 1 Axes>"
      ]
     },
     "metadata": {
      "needs_background": "light"
     },
     "output_type": "display_data"
    }
   ],
   "source": [
    "plt.hist(nmses,bins=150)"
   ]
  },
  {
   "cell_type": "code",
   "execution_count": 204,
   "id": "ae6ae9ee-fc6c-43c8-afc4-4ff760d6b24f",
   "metadata": {},
   "outputs": [
    {
     "data": {
      "text/plain": [
       "0.6"
      ]
     },
     "execution_count": 204,
     "metadata": {},
     "output_type": "execute_result"
    }
   ],
   "source": []
  },
  {
   "cell_type": "code",
   "execution_count": null,
   "id": "bb478ec2-2b4a-49a4-9c7a-3dadac0dee53",
   "metadata": {},
   "outputs": [],
   "source": []
  }
 ],
 "metadata": {
  "kernelspec": {
   "display_name": "Python 3",
   "language": "python",
   "name": "python3"
  },
  "language_info": {
   "codemirror_mode": {
    "name": "ipython",
    "version": 3
   },
   "file_extension": ".py",
   "mimetype": "text/x-python",
   "name": "python",
   "nbconvert_exporter": "python",
   "pygments_lexer": "ipython3",
   "version": "3.8.8"
  }
 },
 "nbformat": 4,
 "nbformat_minor": 5
}
