{
 "cells": [
  {
   "cell_type": "code",
   "execution_count": 21,
   "source": [
    "import glob\n",
    "import scipy\n",
    "import random\n",
    "import numpy as np\n",
    "import matplotlib.pyplot as plt\n",
    "from scipy.stats import chisquare\n",
    "from natsort import natsorted\n",
    "from scipy.stats import describe\n",
    "from scipy.signal import filtfilt\n",
    "from sklearn.metrics import mean_squared_error\n",
    "from scipy.optimize import curve_fit\n",
    "import matplotlib\n",
    "from numpy.linalg import svd\n",
    "\n",
    "plt.rcParams['mathtext.fontset'] = 'stix'\n",
    "plt.rcParams['font.family'] = 'STIXGeneral'\n",
    "plt.rc('font', size=12) \n",
    "%config InlineBackend.figure_format = 'svg'"
   ],
   "outputs": [],
   "metadata": {}
  },
  {
   "cell_type": "code",
   "execution_count": 22,
   "source": [
    "path = '/Users/patrick/Documents/phd/GitHub/tikhonov/'"
   ],
   "outputs": [],
   "metadata": {}
  },
  {
   "cell_type": "code",
   "execution_count": 28,
   "source": [
    "g4iso_files = natsorted(glob.glob(path+\"g4out/*KE_*_iso.csv\"))\n",
    "R = []\n",
    "D = []\n",
    "\n",
    "for i in range(5,len(g4iso_files)-101,5): # 100 keV to 1 MeV energy range in steps of 100 keV\n",
    "    R.append(np.loadtxt(open(g4iso_files[i], \"r\"), delimiter=\",\",skiprows=9)[30:400:1,3]/5000000.0)\n",
    "R = np.transpose(np.array(R))\n",
    "RR = R\n",
    "for j in range(0,370): # X-ray spectra from 0 to 600 keV\n",
    "    if (np.linalg.norm(R[j,:] > 0)):\n",
    "        D.append((1.0/np.linalg.norm(R[j,:]))) # Diagonal scaling as a left pre-conditioner\n",
    "    else:\n",
    "        D.append(1)\n",
    "\n",
    "DD = np.diag(D)\n",
    "RT = np.matmul(DD,R)\n",
    "\n",
    "S = []\n",
    "for k in range(0,R.shape[1]):\n",
    "    #S.append(1.0/(k+1)**2) # right pre-conditioner towards an exponential\n",
    "    S.append(1.0/np.sum(R[:,k]))\n",
    "    #S.append(alexa_model_exp[k])\n",
    "    #S.append(1)\n",
    "SS = np.diag(S)\n",
    "RS = np.matmul(RT,SS)\n",
    "\n",
    "print('response condition number: ' + str(np.linalg.cond(R)))\n",
    "print('response condition number after preconditioning: ' + str(np.linalg.cond(RS)))\n",
    "\n",
    "elow_keV = 50\n",
    "ehigh_keV = 1000\n",
    "xspace_estep_keV = 1\n",
    "espace_estep_keV = 50\n",
    "\n",
    "espace = np.linspace(elow_keV,ehigh_keV,R.shape[1])\n",
    "xspace = np.linspace(30,400,R.shape[0])\n",
    "svd50 = np.linalg.svd(R)[1]"
   ],
   "outputs": [
    {
     "output_type": "stream",
     "name": "stdout",
     "text": [
      "response condition number: 5030.013555423452\n",
      "response condition number after preconditioning: 98.0649729964695\n"
     ]
    }
   ],
   "metadata": {}
  },
  {
   "cell_type": "code",
   "execution_count": 29,
   "source": [
    "fig = plt.figure(figsize=(6.52437527778,4))\n",
    "gs = plt.GridSpec(nrows=1, ncols=1,hspace=.5,wspace=.3)\n",
    "\n",
    "ax = fig.add_subplot(gs[0,0])\n",
    "\n",
    "ax.semilogy(svd10,label=\"10 KeV\")\n",
    "ax.semilogy(svd50,label=\"50 KeV\")\n",
    "ax.semilogy(svd100, label=\"100 KeV\")\n",
    "ax.set_ylabel(\"singular value\")\n",
    "ax.set_xlabel(\"matrix index\")\n",
    "ax.legend()\n",
    "\n",
    "plt.savefig('fig_6.pdf')  "
   ],
   "outputs": [],
   "metadata": {}
  },
  {
   "cell_type": "code",
   "execution_count": 25,
   "source": [
    "svd100"
   ],
   "outputs": [
    {
     "output_type": "execute_result",
     "data": {
      "text/plain": [
       "array([3.40831769e-03, 1.48476620e-04, 2.02693878e-05, 1.82245373e-05,\n",
       "       1.70690266e-05, 1.31891404e-05, 8.59117817e-06, 6.82535580e-06,\n",
       "       3.42068432e-06, 1.19199936e-06])"
      ]
     },
     "metadata": {},
     "execution_count": 25
    }
   ],
   "metadata": {}
  },
  {
   "cell_type": "code",
   "execution_count": null,
   "source": [],
   "outputs": [],
   "metadata": {}
  }
 ],
 "metadata": {
  "kernelspec": {
   "display_name": "Python 3",
   "language": "python",
   "name": "python3"
  },
  "language_info": {
   "codemirror_mode": {
    "name": "ipython",
    "version": 3
   },
   "file_extension": ".py",
   "mimetype": "text/x-python",
   "name": "python",
   "nbconvert_exporter": "python",
   "pygments_lexer": "ipython3",
   "version": "3.9.1"
  }
 },
 "nbformat": 4,
 "nbformat_minor": 5
}