{
 "cells": [
  {
   "cell_type": "code",
   "execution_count": 1,
   "id": "4fbf0f7f-8ec2-4d05-a29e-1ddb47019ae3",
   "metadata": {},
   "outputs": [],
   "source": [
    "import glob\n",
    "import scipy\n",
    "import random\n",
    "import numpy as np\n",
    "import matplotlib.pyplot as plt\n",
    "from scipy.stats import chisquare\n",
    "from natsort import natsorted\n",
    "from scipy.stats import describe\n",
    "from scipy.signal import filtfilt\n",
    "from sklearn.metrics import mean_squared_error\n",
    "from scipy.optimize import curve_fit\n",
    "import matplotlib\n",
    "from natsort import natsorted\n",
    "from scipy.sparse.linalg import svds"
   ]
  },
  {
   "cell_type": "code",
   "execution_count": 2,
   "id": "57edb86c-8d78-4177-b04e-bb8180f92754",
   "metadata": {},
   "outputs": [],
   "source": [
    "path = '/Users/patrick/Documents/phd/GitHub/tikhonov/'"
   ]
  },
  {
   "cell_type": "code",
   "execution_count": 12,
   "id": "17151b25-26bd-49a9-8105-45408935923c",
   "metadata": {},
   "outputs": [],
   "source": [
    "g4iso_files = natsorted(glob.glob(path+\"g4out/*KE_*_iso.csv\"))\n",
    "\n",
    "def cnum(xbinw,ebinw,num_components,preconditionl,preconditionr):\n",
    "    R = []\n",
    "    D = []\n",
    "\n",
    "    for i in range(5,len(g4iso_files),ebinw): # 100 keV to 1 MeV energy range in steps of 100 keV\n",
    "        R.append(np.loadtxt(open(g4iso_files[i], \"r\"), delimiter=\",\",skiprows=9)[30:2000:xbinw,3]/5000000.0)\n",
    "    R = np.transpose(np.array(R))\n",
    "\n",
    "    RR = R\n",
    "    for j in range(0,R.shape[0]): # X-ray spectra from 0 to 600 keV\n",
    "        if (np.linalg.norm(R[j,:] > 0)):\n",
    "            D.append((1.0/np.linalg.norm(R[j,:]))) # Diagonal scaling as a left pre-conditioner\n",
    "        else:\n",
    "            D.append(1)\n",
    "\n",
    "    DD = np.diag(D)\n",
    "    if (preconditionl):\n",
    "        RT = np.matmul(DD,R)\n",
    "    else: \n",
    "        RT = R\n",
    "\n",
    "    S = []\n",
    "    for k in range(0,R.shape[1]):\n",
    "        #S.append(1.0/(k+1)**2) # right pre-conditioner towards an exponential\n",
    "        S.append(1.0/np.sum(R[:,k]))\n",
    "        #S.append(alexa_model_exp[k])\n",
    "        #S.append(1)\n",
    "    SS = np.diag(S)\n",
    "    \n",
    "    if (preconditionr):\n",
    "        RS = np.matmul(RT,SS)\n",
    "    else:\n",
    "        RS = RT\n",
    "    return(np.linalg.cond(RS))"
   ]
  },
  {
   "cell_type": "code",
   "execution_count": 8,
   "id": "979f35a2-16c0-4ff2-aee4-a65863305733",
   "metadata": {},
   "outputs": [
    {
     "data": {
      "text/plain": [
       "203.81885278866218"
      ]
     },
     "execution_count": 8,
     "metadata": {},
     "output_type": "execute_result"
    }
   ],
   "source": []
  },
  {
   "cell_type": "code",
   "execution_count": 16,
   "id": "375a807b-dca7-45c7-b1bf-327307bc74a5",
   "metadata": {},
   "outputs": [],
   "source": [
    "def tsvd(num_components,preconditionl,preconditionr):\n",
    "\n",
    "    X = np.arange(10, 100, 5)\n",
    "    Y = np.arange(1, 20, 1)\n",
    "    XX, YY = np.meshgrid(X, Y)\n",
    "    Z = []\n",
    "    zm=[]\n",
    "    for i in X:\n",
    "        print(i)\n",
    "        for j in Y:\n",
    "            zm.append(cnum(i,j,num_components,preconditionl,preconditionr))\n",
    "        Z.append(zm)\n",
    "        zm=[]\n",
    "    ZZ = np.transpose(np.array(Z))\n",
    "    return([XX,YY,ZZ])"
   ]
  },
  {
   "cell_type": "code",
   "execution_count": 17,
   "id": "b163f477-ca93-4541-b5f9-7cdcb9c5ed22",
   "metadata": {},
   "outputs": [
    {
     "name": "stdout",
     "output_type": "stream",
     "text": [
      "10\n",
      "15\n",
      "20\n",
      "25\n",
      "30\n",
      "35\n",
      "40\n",
      "45\n",
      "50\n",
      "55\n",
      "60\n",
      "65\n",
      "70\n",
      "75\n",
      "80\n",
      "85\n",
      "90\n",
      "95\n"
     ]
    }
   ],
   "source": [
    "cnum_nopre = tsvd(1,False,False)"
   ]
  },
  {
   "cell_type": "code",
   "execution_count": 20,
   "id": "865fcd4a-d88c-4f40-a785-a217bc51ef66",
   "metadata": {},
   "outputs": [
    {
     "name": "stdout",
     "output_type": "stream",
     "text": [
      "10\n",
      "15\n",
      "20\n",
      "25\n",
      "30\n",
      "35\n",
      "40\n",
      "45\n",
      "50\n",
      "55\n",
      "60\n",
      "65\n",
      "70\n",
      "75\n",
      "80\n",
      "85\n",
      "90\n",
      "95\n"
     ]
    }
   ],
   "source": [
    "cnum_leftpre = tsvd(1,True,False)"
   ]
  },
  {
   "cell_type": "code",
   "execution_count": 30,
   "id": "c46d728c-db00-4649-a6cc-a5bf4e042f75",
   "metadata": {},
   "outputs": [
    {
     "name": "stdout",
     "output_type": "stream",
     "text": [
      "10\n",
      "15\n",
      "20\n",
      "25\n",
      "30\n",
      "35\n",
      "40\n",
      "45\n",
      "50\n",
      "55\n",
      "60\n",
      "65\n",
      "70\n",
      "75\n",
      "80\n",
      "85\n",
      "90\n",
      "95\n"
     ]
    }
   ],
   "source": [
    "cnum_rightpre = tsvd(1,False,True)"
   ]
  },
  {
   "cell_type": "code",
   "execution_count": 31,
   "id": "1b9d35fb-37f3-4cb7-b694-049494983d04",
   "metadata": {},
   "outputs": [
    {
     "name": "stdout",
     "output_type": "stream",
     "text": [
      "10\n",
      "15\n",
      "20\n",
      "25\n",
      "30\n",
      "35\n",
      "40\n",
      "45\n",
      "50\n",
      "55\n",
      "60\n",
      "65\n",
      "70\n",
      "75\n",
      "80\n",
      "85\n",
      "90\n",
      "95\n"
     ]
    }
   ],
   "source": [
    "cnum_bothpre = tsvd(1,True,True)"
   ]
  },
  {
   "cell_type": "code",
   "execution_count": 115,
   "id": "a0f98308-cf7c-47da-bca6-2770bd091dfc",
   "metadata": {},
   "outputs": [
    {
     "data": {
      "image/png": "[encoded data removed]",
      "text/plain": [
       "<Figure size 720x576 with 8 Axes>"
      ]
     },
     "metadata": {
      "needs_background": "light"
     },
     "output_type": "display_data"
    }
   ],
   "source": [
    "from mpl_toolkits.mplot3d import Axes3D\n",
    "import matplotlib.pyplot as plt\n",
    "import numpy as np\n",
    "from matplotlib import ticker, cm\n",
    "\n",
    "\n",
    "\n",
    "font = {'family' : 'normal',\n",
    "        'weight' : 'normal',\n",
    "        'size'   : 16}\n",
    "\n",
    "matplotlib.rc('font', **font)\n",
    "\n",
    "\n",
    "fig = plt.figure(figsize=(10,8))\n",
    "gs = plt.GridSpec(nrows=2, ncols=2,hspace=.2,wspace=.5)\n",
    "\n",
    "ax1 = fig.add_subplot(gs[0,0])\n",
    "ax2 = fig.add_subplot(gs[0,1])\n",
    "ax3 = fig.add_subplot(gs[1,0])\n",
    "ax4 = fig.add_subplot(gs[1,1])\n",
    "\n",
    "target = cnum_nopre\n",
    "cs1=ax1.contourf(target[0],target[1]*10,target[2],locator=ticker.LogLocator(),levels=np.logspace(1,10,30),cmap='jet')\n",
    "cbar1=plt.colorbar(cs1,ticks=np.logspace(1,100,100),ax=ax1,format='%.0e')\n",
    "\n",
    "target = cnum_leftpre\n",
    "cs2=ax2.contourf(target[0],target[1]*10,target[2],locator=ticker.LogLocator(),levels=np.logspace(1,10,30),cmap='jet')\n",
    "cbar2=plt.colorbar(cs2,ticks=np.logspace(1,100,100),ax=ax2,format='%.0e')\n",
    "\n",
    "target = cnum_rightpre\n",
    "cs3=ax3.contourf(target[0],target[1]*10,target[2],locator=ticker.LogLocator(),levels=np.logspace(1,10,30),cmap='jet')\n",
    "cbar3=plt.colorbar(cs3,ticks=np.logspace(1,100,100),ax=ax3,format='%.0e')\n",
    "\n",
    "target = cnum_bothpre\n",
    "cs4=ax4.contourf(target[0],target[1]*10,target[2],locator=ticker.LogLocator(),levels=np.logspace(1,10,30),cmap='jet')\n",
    "cbar4=plt.colorbar(cs4,ticks=np.logspace(1,100,100),ax=ax4,format='%.0e')\n",
    "\n",
    "\n",
    "ax1.text(75, 40, 'A', fontsize=15)\n",
    "ax2.text(75, 40, 'B', fontsize=15)\n",
    "ax3.text(75, 40, 'C', fontsize=15)\n",
    "ax4.text(75, 40, 'D', fontsize=15)\n",
    "\n",
    "ax4.set_xlabel('X-ray Spectrum Bin Width (KeV)',x=-.5)\n",
    "ax3.set_ylabel('Electron Spectrum Bin Width (KeV)',y=1)\n",
    "\n",
    "#cbaxes = fig.add_axes([1.1, 0.1, 0.93, 0.8]) \n",
    "plt.savefig('fig.pdf')  \n"
   ]
  },
  {
   "cell_type": "code",
   "execution_count": null,
   "id": "6472397b-df42-4803-b80d-0dc1a2c2712b",
   "metadata": {},
   "outputs": [],
   "source": []
  }
 ],
 "metadata": {
  "kernelspec": {
   "display_name": "Python 3",
   "language": "python",
   "name": "python3"
  },
  "language_info": {
   "codemirror_mode": {
    "name": "ipython",
    "version": 3
   },
   "file_extension": ".py",
   "mimetype": "text/x-python",
   "name": "python",
   "nbconvert_exporter": "python",
   "pygments_lexer": "ipython3",
   "version": "3.8.8"
  }
 },
 "nbformat": 4,
 "nbformat_minor": 5
}
