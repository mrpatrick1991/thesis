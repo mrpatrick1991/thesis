{
 "cells": [
  {
   "cell_type": "code",
   "execution_count": 6,
   "source": [
    "import scipy\n",
    "from numpy.random import normal\n",
    "import numpy as np\n",
    "import matplotlib.pyplot as plt\n",
    "from scipy.stats import chisquare\n",
    "import matplotlib\n",
    "plt.rcParams['mathtext.fontset'] = 'stix'\n",
    "plt.rcParams['font.family'] = 'STIXGeneral'\n",
    "plt.rc('font', size=12) \n",
    "%config InlineBackend.figure_format = 'svg'"
   ],
   "outputs": [],
   "metadata": {}
  },
  {
   "cell_type": "code",
   "execution_count": 7,
   "source": [
    "np.random.seed(123)\n",
    "noise = np.random.normal(0,.5,20)\n",
    "\n",
    "fun = []\n",
    "for i in np.linspace(0,4*3.14,20):\n",
    "    fun.append(1.0)\n",
    "fun = np.array(fun)\n",
    "\n",
    "x = np.array(range(0,20))\n",
    "\n",
    "data = noise+fun"
   ],
   "outputs": [],
   "metadata": {}
  },
  {
   "cell_type": "code",
   "execution_count": 18,
   "source": [
    "del_i= 10\n",
    "\n",
    "\n",
    "m0 = np.polyfit(np.delete(x,del_i),np.delete(data,del_i),1)\n",
    "m1 = np.polyfit(np.delete(x,del_i),np.delete(data,del_i),20)\n",
    "\n",
    "fig = plt.figure(figsize=(6.52437527778,6))\n",
    "gs = plt.GridSpec(nrows=1, ncols=1,hspace=.5,wspace=.3)\n",
    "ax = fig.add_subplot(gs[0,0])\n",
    "\n",
    "ax.plot(x,data,'x',label='data set')\n",
    "ax.plot(x,np.polyval(m0,x), label='under-fit solution')\n",
    "ax.plot(x,np.polyval(m1,x), label='over-fit solution')\n",
    "\n",
    "ax.scatter(x[del_i],data[del_i],color='red',label='suppressed data point')\n",
    "ax.legend()\n",
    "plt.savefig('cross_validation_motivation.pdf')"
   ],
   "outputs": [
    {
     "output_type": "stream",
     "name": "stderr",
     "text": [
      "/Users/patrick/opt/anaconda3/lib/python3.8/site-packages/IPython/core/interactiveshell.py:3441: RankWarning: Polyfit may be poorly conditioned\n",
      "  exec(code_obj, self.user_global_ns, self.user_ns)\n"
     ]
    }
   ],
   "metadata": {}
  },
  {
   "cell_type": "code",
   "execution_count": null,
   "source": [],
   "outputs": [],
   "metadata": {}
  }
 ],
 "metadata": {
  "kernelspec": {
   "name": "python3",
   "display_name": "Python 3.8.8 64-bit ('base': conda)"
  },
  "language_info": {
   "codemirror_mode": {
    "name": "ipython",
    "version": 3
   },
   "file_extension": ".py",
   "mimetype": "text/x-python",
   "name": "python",
   "nbconvert_exporter": "python",
   "pygments_lexer": "ipython3",
   "version": "3.8.8"
  },
  "interpreter": {
   "hash": "ad1b009c0380e1478987093ff7c38676b28103d0252f56885a1e87b1524a8850"
  }
 },
 "nbformat": 4,
 "nbformat_minor": 5
}